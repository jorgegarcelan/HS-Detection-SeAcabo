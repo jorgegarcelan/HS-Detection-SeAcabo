{
 "cells": [
  {
   "cell_type": "markdown",
   "metadata": {},
   "source": [
    "# LLM"
   ]
  },
  {
   "cell_type": "markdown",
   "metadata": {},
   "source": [
    "## Libraries"
   ]
  },
  {
   "cell_type": "code",
   "execution_count": 1,
   "metadata": {},
   "outputs": [],
   "source": [
    "from utils import *\n",
    "from process_data import *\n",
    "from load_data import *\n",
    "\n",
    "from tqdm import tqdm\n",
    "import requests\n",
    "import json"
   ]
  },
  {
   "cell_type": "markdown",
   "metadata": {},
   "source": [
    "## Data"
   ]
  },
  {
   "cell_type": "code",
   "execution_count": 2,
   "metadata": {},
   "outputs": [],
   "source": [
    "# Load data\n",
    "data = \"../data/BBDD_SeAcabo.csv\" # \"data/BBDD_SeAcabo.csv\" \"AMI_IBEREVAL2018/es_AMI_TrainingSet_NEW.csv\"\n",
    "df = load_data(data)"
   ]
  },
  {
   "cell_type": "markdown",
   "metadata": {},
   "source": [
    "## Context"
   ]
  },
  {
   "cell_type": "code",
   "execution_count": 3,
   "metadata": {},
   "outputs": [],
   "source": [
    "CONTEXT = \"[CONTEXTO]: En agosto de 2023, tras la victoria de la Selección femenina de fútbol de España en la Copa Mundial Femenina de Fútbol de 2023, durante la celebración en la entrega de las medallas y tras abrazar efusivamente a varias jugadoras, Luis Rubiales (presidente del RFEF) besó en los labios a la centrocampista Jennifer Hermoso (jugadora) mientras sujetaba su cabeza con las manos. Hermoso lo denunció ante la Fiscalía por acoso sexual, coacciones y agresión sexual. La Fiscalía presentó una demanda contra Rubiales ante la Audiencia Nacional en Madrid\""
   ]
  },
  {
   "cell_type": "markdown",
   "metadata": {},
   "source": [
    "## Prompts"
   ]
  },
  {
   "cell_type": "code",
   "execution_count": 4,
   "metadata": {},
   "outputs": [],
   "source": [
    "PROMPT_1 = \"[TAREA]: Tu tarea es la de clasificar tweets en clases: 'Tweet a favor de las jugadoras', 'Tweet en contra de las jugadoras' y 'Tweet neutral'\""
   ]
  },
  {
   "cell_type": "code",
   "execution_count": 5,
   "metadata": {},
   "outputs": [],
   "source": [
    "PROMPT_2 = \"[TAREA]: Tu tarea es la de clasificar tweets en clases: 'Tweet desprestigia acto', 'Tweet desprestigia deportista autora', 'Tweet desprestigia victima', 'Tweet insulta'\""
   ]
  },
  {
   "cell_type": "code",
   "execution_count": 6,
   "metadata": {},
   "outputs": [],
   "source": [
    "PROMPT_3 = \"[TAREA]: Tu tarea es la de clasificar tweets en clases: 'Tweet contiene insultos genéricos', 'Tweet contiene insultos sexistas/misoginos', 'Tweet contiene insultos con deseo de dañar'\""
   ]
  },
  {
   "cell_type": "markdown",
   "metadata": {},
   "source": [
    "## Zero-shot"
   ]
  },
  {
   "cell_type": "markdown",
   "metadata": {},
   "source": [
    "### Classify"
   ]
  },
  {
   "cell_type": "code",
   "execution_count": 7,
   "metadata": {},
   "outputs": [],
   "source": [
    "def classify(message, context, prompt):\n",
    "    url = \"http://localhost:1234/v1/chat/completions\"\n",
    "\n",
    "    # Your request payload\n",
    "    payload = {\n",
    "        \"messages\": [\n",
    "            {\"role\": \"assistant\", \"content\": context},\n",
    "            {\"role\": \"assistant\", \"content\": prompt},\n",
    "            {\"role\": \"user\", \"content\": f\"Tweet: {message}\" }\n",
    "        ],\n",
    "        \"temperature\": 0.1,\n",
    "        \"max_tokens\": 20, ## 10\n",
    "        \"stream\": False,\n",
    "        #\"model\": \"lmstudio-ai/gemma-2b-it-GGUF\"\n",
    "        \"model\": \"lmstudio-community/Meta-Llama-3-8B-Instruct-GGUF\"\n",
    "    }\n",
    "\n",
    "    headers = {\n",
    "        \"Content-Type\": \"application/json\"\n",
    "    }\n",
    "\n",
    "    # Send POST request\n",
    "    response = requests.post(url, headers=headers, data=json.dumps(payload))\n",
    "\n",
    "    # Check for successful response\n",
    "    if response.status_code == 200:\n",
    "        return response.json()\n",
    "    else:\n",
    "        return {\"error\": \"Request failed with status code \" + str(response.status_code)}\n"
   ]
  },
  {
   "cell_type": "code",
   "execution_count": 8,
   "metadata": {},
   "outputs": [],
   "source": [
    "def process_texts(df, context, prompt):\n",
    "    results = []\n",
    "\n",
    "    for text in tqdm(df['full_text'], desc=\"Processing Texts\"):\n",
    "        response = classify(text, context, prompt)\n",
    "        # Extraer la respuesta del bot del objeto de respuesta\n",
    "        bot_response = response.get(\"choices\")[0].get(\"message\").get(\"content\") if response.get(\"choices\") else \"Sorry, I couldn't get a response.\"\n",
    "        results.append(bot_response)\n",
    "    return results"
   ]
  },
  {
   "cell_type": "markdown",
   "metadata": {},
   "source": [
    "### Análisis General"
   ]
  },
  {
   "cell_type": "code",
   "execution_count": 9,
   "metadata": {},
   "outputs": [
    {
     "name": "stdout",
     "output_type": "stream",
     "text": [
      "\n",
      "Soporte de etiquetas con nombres originales:\n",
      "Comentario Positivo: 435\n",
      "Comentario Negativo: 435\n"
     ]
    },
    {
     "name": "stderr",
     "output_type": "stream",
     "text": [
      "c:\\Users\\jorge\\Desktop\\UNI\\4-CUARTO\\4-2-TFG\\CODE\\Gender-Bias\\MachineLearning\\process_data.py:45: SettingWithCopyWarning: \n",
      "A value is trying to be set on a copy of a slice from a DataFrame.\n",
      "Try using .loc[row_indexer,col_indexer] = value instead\n",
      "\n",
      "See the caveats in the documentation: https://pandas.pydata.org/pandas-docs/stable/user_guide/indexing.html#returning-a-view-versus-a-copy\n",
      "  df['label'] = labels\n"
     ]
    }
   ],
   "source": [
    "analisis_general_df,_ = filter_by_type(df, \"analisis_general\", \"downsampling\")"
   ]
  },
  {
   "cell_type": "code",
   "execution_count": 10,
   "metadata": {},
   "outputs": [
    {
     "name": "stderr",
     "output_type": "stream",
     "text": [
      "Processing Texts: 100%|██████████| 870/870 [1:02:21<00:00,  4.30s/it]\n"
     ]
    },
    {
     "name": "stdout",
     "output_type": "stream",
     "text": [
      "             Autora                                          full_text  \\\n",
      "0     Jenni Hermoso  @Jennihermoso TODA ESPAÑA ESTÁ CONTIGO https:/...   \n",
      "1     Jenni Hermoso  @Jennihermoso Espero que te llegue todo el arr...   \n",
      "2     Jenni Hermoso                       @Jennihermoso No estás sola💜   \n",
      "3     Jenni Hermoso         @Araujismoo @Jennihermoso She’s a legend .   \n",
      "4     Jenni Hermoso  @Jennihermoso Dilo, reina https://t.co/GasZHE70bE   \n",
      "...             ...                                                ...   \n",
      "2667    Eva Navarro        @evaaanavarro @Paulaa_311 @Jennihermoso 💜💪🏽   \n",
      "2668    Eva Navarro  @evaaanavarro @Jennihermoso Z https://t.co/9vH...   \n",
      "2669    Eva Navarro  @evaaanavarro @Jennihermoso Doblemente campeon...   \n",
      "2670    Eva Navarro  @evaaanavarro @Jennihermoso Brava!! Siempre co...   \n",
      "2671    Eva Navarro  @evaaanavarro @Jennihermoso Y después de ver e...   \n",
      "\n",
      "         Análisis General     Contenido Negativo        Insultos  Insulto 1  \\\n",
      "0     Comentario Positivo                    NaN             NaN        NaN   \n",
      "1     Comentario Positivo                    NaN             NaN        NaN   \n",
      "2     Comentario Positivo                    NaN             NaN        NaN   \n",
      "3     Comentario Positivo                    NaN             NaN        NaN   \n",
      "4     Comentario Positivo                    NaN             NaN        NaN   \n",
      "...                   ...                    ...             ...        ...   \n",
      "2667  Comentario Positivo                    NaN             NaN        NaN   \n",
      "2668  Comentario Positivo                    NaN             NaN        NaN   \n",
      "2669  Comentario Positivo                    NaN             NaN        NaN   \n",
      "2670  Comentario Positivo                    NaN             NaN        NaN   \n",
      "2671  Comentario Negativo  Desprestigiar Víctima  Deseo de Dañar  Patéticas   \n",
      "\n",
      "      Insulto 2 Insulto 3 Emisor Contenido AV.  ... fast_followers_count  \\\n",
      "0           NaN       NaN    NaN           NaN  ...                    0   \n",
      "1           NaN       NaN    NaN           NaN  ...                    0   \n",
      "2           NaN       NaN    NaN           NaN  ...                    0   \n",
      "3           NaN       NaN    NaN           NaN  ...                    0   \n",
      "4           NaN       NaN    NaN           NaN  ...                    0   \n",
      "...         ...       ...    ...           ...  ...                  ...   \n",
      "2667        NaN       NaN    NaN           NaN  ...                    0   \n",
      "2668        NaN       NaN    NaN           NaN  ...                    0   \n",
      "2669        NaN       NaN    NaN           NaN  ...                    0   \n",
      "2670        NaN       NaN    NaN           NaN  ...                    0   \n",
      "2671  Mentirosa       NaN   Fake            Si  ...                    0   \n",
      "\n",
      "      normal_followers_count  followed_by  following  \\\n",
      "0                      25903          NaN        NaN   \n",
      "1                     194965          NaN        NaN   \n",
      "2                      91062          NaN        NaN   \n",
      "3                       3925          NaN        NaN   \n",
      "4                      61457          NaN        NaN   \n",
      "...                      ...          ...        ...   \n",
      "2667                     809          NaN        NaN   \n",
      "2668                    9820          NaN        NaN   \n",
      "2669                    2956          NaN        NaN   \n",
      "2670                     182          NaN        NaN   \n",
      "2671                     134          NaN        NaN   \n",
      "\n",
      "                            location  \\\n",
      "0                                NaN   \n",
      "1                            Navarra   \n",
      "2         Lleida, Catalunya, España.   \n",
      "3                             Earth    \n",
      "4     Las Palmas de Gran Canaria, Es   \n",
      "...                              ...   \n",
      "2667               Torrelavega City    \n",
      "2668                 Cataluña ✊💜💛♥️✊   \n",
      "2669                             NaN   \n",
      "2670                             NaN   \n",
      "2671         Region of Murcia, Spain   \n",
      "\n",
      "                                     profile_banner_url  \\\n",
      "0     https://pbs.twimg.com/profile_banners/13638585...   \n",
      "1     https://pbs.twimg.com/profile_banners/34473932...   \n",
      "2     https://pbs.twimg.com/profile_banners/23436984...   \n",
      "3     https://pbs.twimg.com/profile_banners/37527533...   \n",
      "4     https://pbs.twimg.com/profile_banners/74429331...   \n",
      "...                                                 ...   \n",
      "2667  https://pbs.twimg.com/profile_banners/37359638...   \n",
      "2668  https://pbs.twimg.com/profile_banners/14003913...   \n",
      "2669  https://pbs.twimg.com/profile_banners/22259904...   \n",
      "2670  https://pbs.twimg.com/profile_banners/90598249...   \n",
      "2671  https://pbs.twimg.com/profile_banners/14107359...   \n",
      "\n",
      "                                profile_url  \\\n",
      "0        https://www.twitter.com/Araujismoo   \n",
      "1       https://www.twitter.com/ionebelarra   \n",
      "2      https://www.twitter.com/carlagaleote   \n",
      "3         https://www.twitter.com/emmaltrix   \n",
      "4     https://www.twitter.com/TirodeGraciah   \n",
      "...                                     ...   \n",
      "2667     https://www.twitter.com/sandrus260   \n",
      "2668    https://www.twitter.com/Giorgio7716   \n",
      "2669       https://www.twitter.com/framarub   \n",
      "2670  https://www.twitter.com/Joannacolomer   \n",
      "2671  https://www.twitter.com/ElJovenRicoOf   \n",
      "\n",
      "                                             avatar_url verified  \\\n",
      "0     https://pbs.twimg.com/profile_images/167886449...    False   \n",
      "1     https://pbs.twimg.com/profile_images/160626561...    False   \n",
      "2     https://pbs.twimg.com/profile_images/161793790...    False   \n",
      "3     https://pbs.twimg.com/profile_images/169070741...    False   \n",
      "4     https://pbs.twimg.com/profile_images/163890386...    False   \n",
      "...                                                 ...      ...   \n",
      "2667  https://pbs.twimg.com/profile_images/166507079...    False   \n",
      "2668  https://pbs.twimg.com/profile_images/164212369...    False   \n",
      "2669  https://pbs.twimg.com/profile_images/125216679...    False   \n",
      "2670  https://pbs.twimg.com/profile_images/140020219...    False   \n",
      "2671  https://pbs.twimg.com/profile_images/147480715...    False   \n",
      "\n",
      "      is_blue_verified  \n",
      "0                 True  \n",
      "1                False  \n",
      "2                False  \n",
      "3                 True  \n",
      "4                 True  \n",
      "...                ...  \n",
      "2667             False  \n",
      "2668             False  \n",
      "2669             False  \n",
      "2670             False  \n",
      "2671             False  \n",
      "\n",
      "[2672 rows x 46 columns]\n"
     ]
    }
   ],
   "source": [
    "# Aplicar la función al DataFrame\n",
    "analisis_general_df['analisis_general_pred'] = process_texts(analisis_general_df, context=CONTEXT, prompt=PROMPT_1)\n",
    "print(df)"
   ]
  },
  {
   "cell_type": "code",
   "execution_count": 11,
   "metadata": {},
   "outputs": [],
   "source": [
    "analisis_general_df['analisis_general_pred'] = analisis_general_df['analisis_general_pred'].apply(lambda x: \"Comentario Positivo\" if 'favor' in x.lower() else \"Comentario Negativo\")"
   ]
  },
  {
   "cell_type": "code",
   "execution_count": 13,
   "metadata": {},
   "outputs": [
    {
     "name": "stdout",
     "output_type": "stream",
     "text": [
      "Accuracy: 0.8448275862068966\n",
      "F1 Score: 0.8418690818712898\n"
     ]
    }
   ],
   "source": [
    "from sklearn.metrics import accuracy_score, f1_score\n",
    "\n",
    "# Calcular la precisión\n",
    "accuracy = accuracy_score(analisis_general_df['Análisis General'], analisis_general_df['analisis_general_pred'])\n",
    "print(f\"Accuracy: {accuracy}\")\n",
    "\n",
    "# Calcular la puntuación F1\n",
    "f1 = f1_score(analisis_general_df['Análisis General'], analisis_general_df['analisis_general_pred'], average=\"weighted\")\n",
    "print(f\"F1 Score: {f1}\")\n"
   ]
  },
  {
   "cell_type": "code",
   "execution_count": 14,
   "metadata": {},
   "outputs": [
    {
     "data": {
      "image/png": "[encoded data removed]",
      "text/plain": [
       "<Figure size 800x600 with 1 Axes>"
      ]
     },
     "metadata": {},
     "output_type": "display_data"
    }
   ],
   "source": [
    "from sklearn.metrics import confusion_matrix\n",
    "import seaborn as sns\n",
    "import matplotlib.pyplot as plt\n",
    "\n",
    "# Calcular la matriz de confusión\n",
    "cm = confusion_matrix(analisis_general_df['Análisis General'], analisis_general_df['analisis_general_pred'])\n",
    "\n",
    "# Visualizar la matriz de confusión con Seaborn\n",
    "plt.figure(figsize=(8, 6))\n",
    "sns.heatmap(cm, annot=True, fmt='d', cmap='Blues', cbar=False)\n",
    "plt.xlabel('Predicted Label')\n",
    "plt.ylabel('True Label')\n",
    "plt.title('Confusion Matrix')\n",
    "plt.show()"
   ]
  },
  {
   "cell_type": "markdown",
   "metadata": {},
   "source": [
    "#### Metrics"
   ]
  },
  {
   "cell_type": "markdown",
   "metadata": {},
   "source": [
    "### Contenido Negativo"
   ]
  },
  {
   "cell_type": "code",
   "execution_count": 15,
   "metadata": {},
   "outputs": [
    {
     "name": "stdout",
     "output_type": "stream",
     "text": [
      "\n",
      "Soporte de etiquetas con nombres originales:\n",
      "Desprestigiar Víctima: 70\n",
      "Desprestigiar Acto: 70\n",
      "Insultos: 70\n",
      "Desprestigiar Deportista Autora: 70\n"
     ]
    },
    {
     "name": "stderr",
     "output_type": "stream",
     "text": [
      "c:\\Users\\jorge\\Desktop\\UNI\\4-CUARTO\\4-2-TFG\\CODE\\Gender-Bias\\MachineLearning\\process_data.py:58: SettingWithCopyWarning: \n",
      "A value is trying to be set on a copy of a slice from a DataFrame.\n",
      "Try using .loc[row_indexer,col_indexer] = value instead\n",
      "\n",
      "See the caveats in the documentation: https://pandas.pydata.org/pandas-docs/stable/user_guide/indexing.html#returning-a-view-versus-a-copy\n",
      "  df['Contenido Negativo'] = df['Contenido Negativo'].where(df['Contenido Negativo'].isin(etiquetas))\n"
     ]
    }
   ],
   "source": [
    "# Aplicar la función al DataFrame\n",
    "contenido_negativo_df,_ = filter_by_type(df, \"contenido_negativo\", \"downsampling\")"
   ]
  },
  {
   "cell_type": "code",
   "execution_count": 16,
   "metadata": {},
   "outputs": [
    {
     "name": "stderr",
     "output_type": "stream",
     "text": [
      "Processing Texts: 100%|██████████| 280/280 [22:52<00:00,  4.90s/it]"
     ]
    },
    {
     "name": "stdout",
     "output_type": "stream",
     "text": [
      "             Autora                                          full_text  \\\n",
      "0     Jenni Hermoso  @Jennihermoso TODA ESPAÑA ESTÁ CONTIGO https:/...   \n",
      "1     Jenni Hermoso  @Jennihermoso Espero que te llegue todo el arr...   \n",
      "2     Jenni Hermoso                       @Jennihermoso No estás sola💜   \n",
      "3     Jenni Hermoso         @Araujismoo @Jennihermoso She’s a legend .   \n",
      "4     Jenni Hermoso  @Jennihermoso Dilo, reina https://t.co/GasZHE70bE   \n",
      "...             ...                                                ...   \n",
      "2667    Eva Navarro        @evaaanavarro @Paulaa_311 @Jennihermoso 💜💪🏽   \n",
      "2668    Eva Navarro  @evaaanavarro @Jennihermoso Z https://t.co/9vH...   \n",
      "2669    Eva Navarro  @evaaanavarro @Jennihermoso Doblemente campeon...   \n",
      "2670    Eva Navarro  @evaaanavarro @Jennihermoso Brava!! Siempre co...   \n",
      "2671    Eva Navarro  @evaaanavarro @Jennihermoso Y después de ver e...   \n",
      "\n",
      "         Análisis General     Contenido Negativo        Insultos  Insulto 1  \\\n",
      "0     Comentario Positivo                    NaN             NaN        NaN   \n",
      "1     Comentario Positivo                    NaN             NaN        NaN   \n",
      "2     Comentario Positivo                    NaN             NaN        NaN   \n",
      "3     Comentario Positivo                    NaN             NaN        NaN   \n",
      "4     Comentario Positivo                    NaN             NaN        NaN   \n",
      "...                   ...                    ...             ...        ...   \n",
      "2667  Comentario Positivo                    NaN             NaN        NaN   \n",
      "2668  Comentario Positivo                    NaN             NaN        NaN   \n",
      "2669  Comentario Positivo                    NaN             NaN        NaN   \n",
      "2670  Comentario Positivo                    NaN             NaN        NaN   \n",
      "2671  Comentario Negativo  Desprestigiar Víctima  Deseo de Dañar  Patéticas   \n",
      "\n",
      "      Insulto 2 Insulto 3 Emisor Contenido AV.  ... fast_followers_count  \\\n",
      "0           NaN       NaN    NaN           NaN  ...                    0   \n",
      "1           NaN       NaN    NaN           NaN  ...                    0   \n",
      "2           NaN       NaN    NaN           NaN  ...                    0   \n",
      "3           NaN       NaN    NaN           NaN  ...                    0   \n",
      "4           NaN       NaN    NaN           NaN  ...                    0   \n",
      "...         ...       ...    ...           ...  ...                  ...   \n",
      "2667        NaN       NaN    NaN           NaN  ...                    0   \n",
      "2668        NaN       NaN    NaN           NaN  ...                    0   \n",
      "2669        NaN       NaN    NaN           NaN  ...                    0   \n",
      "2670        NaN       NaN    NaN           NaN  ...                    0   \n",
      "2671  Mentirosa       NaN   Fake            Si  ...                    0   \n",
      "\n",
      "      normal_followers_count  followed_by  following  \\\n",
      "0                      25903          NaN        NaN   \n",
      "1                     194965          NaN        NaN   \n",
      "2                      91062          NaN        NaN   \n",
      "3                       3925          NaN        NaN   \n",
      "4                      61457          NaN        NaN   \n",
      "...                      ...          ...        ...   \n",
      "2667                     809          NaN        NaN   \n",
      "2668                    9820          NaN        NaN   \n",
      "2669                    2956          NaN        NaN   \n",
      "2670                     182          NaN        NaN   \n",
      "2671                     134          NaN        NaN   \n",
      "\n",
      "                            location  \\\n",
      "0                                NaN   \n",
      "1                            Navarra   \n",
      "2         Lleida, Catalunya, España.   \n",
      "3                             Earth    \n",
      "4     Las Palmas de Gran Canaria, Es   \n",
      "...                              ...   \n",
      "2667               Torrelavega City    \n",
      "2668                 Cataluña ✊💜💛♥️✊   \n",
      "2669                             NaN   \n",
      "2670                             NaN   \n",
      "2671         Region of Murcia, Spain   \n",
      "\n",
      "                                     profile_banner_url  \\\n",
      "0     https://pbs.twimg.com/profile_banners/13638585...   \n",
      "1     https://pbs.twimg.com/profile_banners/34473932...   \n",
      "2     https://pbs.twimg.com/profile_banners/23436984...   \n",
      "3     https://pbs.twimg.com/profile_banners/37527533...   \n",
      "4     https://pbs.twimg.com/profile_banners/74429331...   \n",
      "...                                                 ...   \n",
      "2667  https://pbs.twimg.com/profile_banners/37359638...   \n",
      "2668  https://pbs.twimg.com/profile_banners/14003913...   \n",
      "2669  https://pbs.twimg.com/profile_banners/22259904...   \n",
      "2670  https://pbs.twimg.com/profile_banners/90598249...   \n",
      "2671  https://pbs.twimg.com/profile_banners/14107359...   \n",
      "\n",
      "                                profile_url  \\\n",
      "0        https://www.twitter.com/Araujismoo   \n",
      "1       https://www.twitter.com/ionebelarra   \n",
      "2      https://www.twitter.com/carlagaleote   \n",
      "3         https://www.twitter.com/emmaltrix   \n",
      "4     https://www.twitter.com/TirodeGraciah   \n",
      "...                                     ...   \n",
      "2667     https://www.twitter.com/sandrus260   \n",
      "2668    https://www.twitter.com/Giorgio7716   \n",
      "2669       https://www.twitter.com/framarub   \n",
      "2670  https://www.twitter.com/Joannacolomer   \n",
      "2671  https://www.twitter.com/ElJovenRicoOf   \n",
      "\n",
      "                                             avatar_url verified  \\\n",
      "0     https://pbs.twimg.com/profile_images/167886449...    False   \n",
      "1     https://pbs.twimg.com/profile_images/160626561...    False   \n",
      "2     https://pbs.twimg.com/profile_images/161793790...    False   \n",
      "3     https://pbs.twimg.com/profile_images/169070741...    False   \n",
      "4     https://pbs.twimg.com/profile_images/163890386...    False   \n",
      "...                                                 ...      ...   \n",
      "2667  https://pbs.twimg.com/profile_images/166507079...    False   \n",
      "2668  https://pbs.twimg.com/profile_images/164212369...    False   \n",
      "2669  https://pbs.twimg.com/profile_images/125216679...    False   \n",
      "2670  https://pbs.twimg.com/profile_images/140020219...    False   \n",
      "2671  https://pbs.twimg.com/profile_images/147480715...    False   \n",
      "\n",
      "      is_blue_verified  \n",
      "0                 True  \n",
      "1                False  \n",
      "2                False  \n",
      "3                 True  \n",
      "4                 True  \n",
      "...                ...  \n",
      "2667             False  \n",
      "2668             False  \n",
      "2669             False  \n",
      "2670             False  \n",
      "2671             False  \n",
      "\n",
      "[2672 rows x 46 columns]\n"
     ]
    },
    {
     "name": "stderr",
     "output_type": "stream",
     "text": [
      "\n"
     ]
    }
   ],
   "source": [
    "contenido_negativo_df['Contenido_Negativo_pred'] = process_texts(contenido_negativo_df, context=CONTEXT, prompt=PROMPT_2)\n",
    "print(df)"
   ]
  },
  {
   "cell_type": "code",
   "execution_count": 17,
   "metadata": {},
   "outputs": [],
   "source": [
    "def value_pred(text):\n",
    "    text = text.lower()\n",
    "    if 'acto' in text:\n",
    "        return \"Desprestigiar Acto\"\n",
    "    elif 'deportista' in text or 'autora' in text:\n",
    "        return \"Desprestigiar Deportista Autora\"\n",
    "    elif 'victima' in text:\n",
    "        return \"Desprestigiar Víctima\"\n",
    "    else:\n",
    "        return \"Insultos\"\n",
    "\n",
    "contenido_negativo_df['Contenido_Negativo_pred'] = contenido_negativo_df['Contenido_Negativo_pred'].apply(value_pred)"
   ]
  },
  {
   "cell_type": "code",
   "execution_count": 18,
   "metadata": {},
   "outputs": [
    {
     "data": {
      "text/plain": [
       "Contenido_Negativo_pred\n",
       "Desprestigiar Víctima              182\n",
       "Insultos                            59\n",
       "Desprestigiar Acto                  24\n",
       "Desprestigiar Deportista Autora     15\n",
       "Name: count, dtype: int64"
      ]
     },
     "execution_count": 18,
     "metadata": {},
     "output_type": "execute_result"
    }
   ],
   "source": [
    "contenido_negativo_df['Contenido_Negativo_pred'].value_counts()"
   ]
  },
  {
   "cell_type": "code",
   "execution_count": 19,
   "metadata": {},
   "outputs": [
    {
     "data": {
      "text/plain": [
       "Contenido Negativo\n",
       "Insultos                           70\n",
       "Desprestigiar Acto                 70\n",
       "Desprestigiar Víctima              70\n",
       "Desprestigiar Deportista Autora    70\n",
       "Name: count, dtype: int64"
      ]
     },
     "execution_count": 19,
     "metadata": {},
     "output_type": "execute_result"
    }
   ],
   "source": [
    "contenido_negativo_df['Contenido Negativo'].value_counts()"
   ]
  },
  {
   "cell_type": "markdown",
   "metadata": {},
   "source": [
    "#### Metrics"
   ]
  },
  {
   "cell_type": "code",
   "execution_count": 20,
   "metadata": {},
   "outputs": [
    {
     "name": "stdout",
     "output_type": "stream",
     "text": [
      "Accuracy: 0.3357142857142857\n",
      "F1 Score: 0.2858972502080166\n"
     ]
    }
   ],
   "source": [
    "from sklearn.metrics import accuracy_score, f1_score\n",
    "\n",
    "# Calcular la precisión\n",
    "accuracy = accuracy_score(contenido_negativo_df['Contenido Negativo'], contenido_negativo_df['Contenido_Negativo_pred'])\n",
    "print(f\"Accuracy: {accuracy}\")\n",
    "\n",
    "# Calcular la puntuación F1\n",
    "f1 = f1_score(contenido_negativo_df['Contenido Negativo'], contenido_negativo_df['Contenido_Negativo_pred'], average=\"weighted\")\n",
    "print(f\"F1 Score: {f1}\")\n"
   ]
  },
  {
   "cell_type": "code",
   "execution_count": 21,
   "metadata": {},
   "outputs": [
    {
     "data": {
      "image/png": "[encoded data removed]",
      "text/plain": [
       "<Figure size 800x600 with 1 Axes>"
      ]
     },
     "metadata": {},
     "output_type": "display_data"
    }
   ],
   "source": [
    "from sklearn.metrics import confusion_matrix\n",
    "import seaborn as sns\n",
    "import matplotlib.pyplot as plt\n",
    "\n",
    "# Calcular la matriz de confusión\n",
    "cm = confusion_matrix(contenido_negativo_df['Contenido Negativo'], contenido_negativo_df['Contenido_Negativo_pred'])\n",
    "\n",
    "# Visualizar la matriz de confusión con Seaborn\n",
    "plt.figure(figsize=(8, 6))\n",
    "sns.heatmap(cm, annot=True, fmt='d', cmap='Blues', cbar=False)\n",
    "plt.xlabel('Predicted Label')\n",
    "plt.ylabel('True Label')\n",
    "plt.title('Confusion Matrix')\n",
    "plt.show()\n"
   ]
  },
  {
   "cell_type": "markdown",
   "metadata": {},
   "source": [
    "### Insultos"
   ]
  },
  {
   "cell_type": "code",
   "execution_count": 29,
   "metadata": {},
   "outputs": [
    {
     "name": "stdout",
     "output_type": "stream",
     "text": [
      "\n",
      "Soporte de etiquetas con nombres originales:\n",
      "Genéricos: 53\n",
      "Sexistas/misóginos: 53\n",
      "Deseo de Dañar: 53\n"
     ]
    },
    {
     "name": "stderr",
     "output_type": "stream",
     "text": [
      "c:\\Users\\jorge\\Desktop\\UNI\\4-CUARTO\\4-2-TFG\\CODE\\Gender-Bias\\MachineLearning\\process_data.py:87: SettingWithCopyWarning: \n",
      "A value is trying to be set on a copy of a slice from a DataFrame.\n",
      "Try using .loc[row_indexer,col_indexer] = value instead\n",
      "\n",
      "See the caveats in the documentation: https://pandas.pydata.org/pandas-docs/stable/user_guide/indexing.html#returning-a-view-versus-a-copy\n",
      "  df['Insultos'] = df['Insultos'].where(df['Insultos'].isin(etiquetas), other=\"Genéricos\")\n"
     ]
    }
   ],
   "source": [
    "# Aplicar la función al DataFrame\n",
    "insults_df,_ = filter_by_type(df, \"insultos\", \"downsampling\")"
   ]
  },
  {
   "cell_type": "code",
   "execution_count": 31,
   "metadata": {},
   "outputs": [
    {
     "name": "stderr",
     "output_type": "stream",
     "text": [
      "Processing Texts: 100%|██████████| 159/159 [12:35<00:00,  4.75s/it]"
     ]
    },
    {
     "name": "stdout",
     "output_type": "stream",
     "text": [
      "             Autora                                          full_text  \\\n",
      "0     Jenni Hermoso  @Jennihermoso TODA ESPAÑA ESTÁ CONTIGO https:/...   \n",
      "1     Jenni Hermoso  @Jennihermoso Espero que te llegue todo el arr...   \n",
      "2     Jenni Hermoso                       @Jennihermoso No estás sola💜   \n",
      "3     Jenni Hermoso         @Araujismoo @Jennihermoso She’s a legend .   \n",
      "4     Jenni Hermoso  @Jennihermoso Dilo, reina https://t.co/GasZHE70bE   \n",
      "...             ...                                                ...   \n",
      "2667    Eva Navarro        @evaaanavarro @Paulaa_311 @Jennihermoso 💜💪🏽   \n",
      "2668    Eva Navarro  @evaaanavarro @Jennihermoso Z https://t.co/9vH...   \n",
      "2669    Eva Navarro  @evaaanavarro @Jennihermoso Doblemente campeon...   \n",
      "2670    Eva Navarro  @evaaanavarro @Jennihermoso Brava!! Siempre co...   \n",
      "2671    Eva Navarro  @evaaanavarro @Jennihermoso Y después de ver e...   \n",
      "\n",
      "         Análisis General     Contenido Negativo        Insultos  Insulto 1  \\\n",
      "0     Comentario Positivo                    NaN             NaN        NaN   \n",
      "1     Comentario Positivo                    NaN             NaN        NaN   \n",
      "2     Comentario Positivo                    NaN             NaN        NaN   \n",
      "3     Comentario Positivo                    NaN             NaN        NaN   \n",
      "4     Comentario Positivo                    NaN             NaN        NaN   \n",
      "...                   ...                    ...             ...        ...   \n",
      "2667  Comentario Positivo                    NaN             NaN        NaN   \n",
      "2668  Comentario Positivo                    NaN             NaN        NaN   \n",
      "2669  Comentario Positivo                    NaN             NaN        NaN   \n",
      "2670  Comentario Positivo                    NaN             NaN        NaN   \n",
      "2671  Comentario Negativo  Desprestigiar Víctima  Deseo de Dañar  Patéticas   \n",
      "\n",
      "      Insulto 2 Insulto 3 Emisor Contenido AV.  ... fast_followers_count  \\\n",
      "0           NaN       NaN    NaN           NaN  ...                    0   \n",
      "1           NaN       NaN    NaN           NaN  ...                    0   \n",
      "2           NaN       NaN    NaN           NaN  ...                    0   \n",
      "3           NaN       NaN    NaN           NaN  ...                    0   \n",
      "4           NaN       NaN    NaN           NaN  ...                    0   \n",
      "...         ...       ...    ...           ...  ...                  ...   \n",
      "2667        NaN       NaN    NaN           NaN  ...                    0   \n",
      "2668        NaN       NaN    NaN           NaN  ...                    0   \n",
      "2669        NaN       NaN    NaN           NaN  ...                    0   \n",
      "2670        NaN       NaN    NaN           NaN  ...                    0   \n",
      "2671  Mentirosa       NaN   Fake            Si  ...                    0   \n",
      "\n",
      "      normal_followers_count  followed_by  following  \\\n",
      "0                      25903          NaN        NaN   \n",
      "1                     194965          NaN        NaN   \n",
      "2                      91062          NaN        NaN   \n",
      "3                       3925          NaN        NaN   \n",
      "4                      61457          NaN        NaN   \n",
      "...                      ...          ...        ...   \n",
      "2667                     809          NaN        NaN   \n",
      "2668                    9820          NaN        NaN   \n",
      "2669                    2956          NaN        NaN   \n",
      "2670                     182          NaN        NaN   \n",
      "2671                     134          NaN        NaN   \n",
      "\n",
      "                            location  \\\n",
      "0                                NaN   \n",
      "1                            Navarra   \n",
      "2         Lleida, Catalunya, España.   \n",
      "3                             Earth    \n",
      "4     Las Palmas de Gran Canaria, Es   \n",
      "...                              ...   \n",
      "2667               Torrelavega City    \n",
      "2668                 Cataluña ✊💜💛♥️✊   \n",
      "2669                             NaN   \n",
      "2670                             NaN   \n",
      "2671         Region of Murcia, Spain   \n",
      "\n",
      "                                     profile_banner_url  \\\n",
      "0     https://pbs.twimg.com/profile_banners/13638585...   \n",
      "1     https://pbs.twimg.com/profile_banners/34473932...   \n",
      "2     https://pbs.twimg.com/profile_banners/23436984...   \n",
      "3     https://pbs.twimg.com/profile_banners/37527533...   \n",
      "4     https://pbs.twimg.com/profile_banners/74429331...   \n",
      "...                                                 ...   \n",
      "2667  https://pbs.twimg.com/profile_banners/37359638...   \n",
      "2668  https://pbs.twimg.com/profile_banners/14003913...   \n",
      "2669  https://pbs.twimg.com/profile_banners/22259904...   \n",
      "2670  https://pbs.twimg.com/profile_banners/90598249...   \n",
      "2671  https://pbs.twimg.com/profile_banners/14107359...   \n",
      "\n",
      "                                profile_url  \\\n",
      "0        https://www.twitter.com/Araujismoo   \n",
      "1       https://www.twitter.com/ionebelarra   \n",
      "2      https://www.twitter.com/carlagaleote   \n",
      "3         https://www.twitter.com/emmaltrix   \n",
      "4     https://www.twitter.com/TirodeGraciah   \n",
      "...                                     ...   \n",
      "2667     https://www.twitter.com/sandrus260   \n",
      "2668    https://www.twitter.com/Giorgio7716   \n",
      "2669       https://www.twitter.com/framarub   \n",
      "2670  https://www.twitter.com/Joannacolomer   \n",
      "2671  https://www.twitter.com/ElJovenRicoOf   \n",
      "\n",
      "                                             avatar_url verified  \\\n",
      "0     https://pbs.twimg.com/profile_images/167886449...    False   \n",
      "1     https://pbs.twimg.com/profile_images/160626561...    False   \n",
      "2     https://pbs.twimg.com/profile_images/161793790...    False   \n",
      "3     https://pbs.twimg.com/profile_images/169070741...    False   \n",
      "4     https://pbs.twimg.com/profile_images/163890386...    False   \n",
      "...                                                 ...      ...   \n",
      "2667  https://pbs.twimg.com/profile_images/166507079...    False   \n",
      "2668  https://pbs.twimg.com/profile_images/164212369...    False   \n",
      "2669  https://pbs.twimg.com/profile_images/125216679...    False   \n",
      "2670  https://pbs.twimg.com/profile_images/140020219...    False   \n",
      "2671  https://pbs.twimg.com/profile_images/147480715...    False   \n",
      "\n",
      "      is_blue_verified  \n",
      "0                 True  \n",
      "1                False  \n",
      "2                False  \n",
      "3                 True  \n",
      "4                 True  \n",
      "...                ...  \n",
      "2667             False  \n",
      "2668             False  \n",
      "2669             False  \n",
      "2670             False  \n",
      "2671             False  \n",
      "\n",
      "[2672 rows x 46 columns]\n"
     ]
    },
    {
     "name": "stderr",
     "output_type": "stream",
     "text": [
      "\n"
     ]
    }
   ],
   "source": [
    "insults_df['Insultos_pred'] = process_texts(insults_df, context=CONTEXT, prompt=PROMPT_3)\n",
    "print(df)"
   ]
  },
  {
   "cell_type": "code",
   "execution_count": 34,
   "metadata": {},
   "outputs": [
    {
     "name": "stdout",
     "output_type": "stream",
     "text": [
      "Insultos_pred\n",
      "Clasificación: Tweet contiene insultos sexistas/misoginos.\\n\\nRazón:              33\n",
      "Clase: 'Tweet contiene insultos sexistas/misoginos'                               14\n",
      "Clasificación: Tweet contiene insultos sexistas/misoginos. El tweet utiliza un    13\n",
      "Clasificación: Tweet no contiene insultos genéricos, sexistas/misoginos           11\n",
      "[TAREA]: Clasificar tweet en la clase: 'Tweet contiene insultos sexistas/m        10\n",
      "                                                                                  ..\n",
      "Clasificación: Tweet contiene insultos sexistas/misoginos                          1\n",
      "Clasificación del tweet:\\n\\n* Tweet contiene insultos sexistas/misoginos: S        1\n",
      "Clasificación del tweet:\\n\\n* Tweet contiene insultos sexistas/misoginos: El       1\n",
      "Clasificación del tweet: \"Tweet contiene insultos genéricos\" (El tweet utiliza     1\n",
      "Clasificación del tweet:\\n\\n* Tweet contiene insultos genéricos: NO (no hay        1\n",
      "Name: count, Length: 61, dtype: int64\n"
     ]
    }
   ],
   "source": [
    "insults_df['Insultos_pred'].value_counts()"
   ]
  },
  {
   "cell_type": "code",
   "execution_count": 33,
   "metadata": {},
   "outputs": [
    {
     "data": {
      "text/plain": [
       "Insultos\n",
       "Sexistas/misóginos    53\n",
       "Deseo de Dañar        53\n",
       "Genéricos             53\n",
       "Name: count, dtype: int64"
      ]
     },
     "execution_count": 33,
     "metadata": {},
     "output_type": "execute_result"
    }
   ],
   "source": [
    "insults_df['Insultos'].value_counts()"
   ]
  },
  {
   "cell_type": "code",
   "execution_count": 24,
   "metadata": {},
   "outputs": [],
   "source": [
    "def value_pred(text):\n",
    "    text = text.lower()\n",
    "    if 'acto' in text:\n",
    "        return \"Desprestigiar Acto\"\n",
    "    elif 'deportista' in text or 'autora' in text:\n",
    "        return \"Desprestigiar Deportista Autora\"\n",
    "    elif 'victima' in text:\n",
    "        return \"Desprestigiar Víctima\"\n",
    "    else:\n",
    "        return \"Insultos\"\n",
    "\n",
    "insults_df['Insultos_pred'] = insults_df['Insultos_pred'].apply(value_pred)"
   ]
  },
  {
   "cell_type": "markdown",
   "metadata": {},
   "source": [
    "#### Metrics"
   ]
  },
  {
   "cell_type": "code",
   "execution_count": 27,
   "metadata": {},
   "outputs": [
    {
     "name": "stdout",
     "output_type": "stream",
     "text": [
      "Accuracy: 0.0\n",
      "F1 Score: 0.0\n"
     ]
    }
   ],
   "source": [
    "from sklearn.metrics import accuracy_score, f1_score\n",
    "\n",
    "# Calcular la precisión\n",
    "accuracy = accuracy_score(insults_df['Insultos'], insults_df['Insultos_pred'])\n",
    "print(f\"Accuracy: {accuracy}\")\n",
    "\n",
    "# Calcular la puntuación F1\n",
    "f1 = f1_score(insults_df['Insultos'], insults_df['Insultos_pred'], average=\"weighted\")\n",
    "print(f\"F1 Score: {f1}\")\n"
   ]
  },
  {
   "cell_type": "code",
   "execution_count": 28,
   "metadata": {},
   "outputs": [
    {
     "data": {
      "image/png": "[encoded data removed]",
      "text/plain": [
       "<Figure size 800x600 with 1 Axes>"
      ]
     },
     "metadata": {},
     "output_type": "display_data"
    }
   ],
   "source": [
    "from sklearn.metrics import confusion_matrix\n",
    "import seaborn as sns\n",
    "import matplotlib.pyplot as plt\n",
    "\n",
    "# Calcular la matriz de confusión\n",
    "cm = confusion_matrix(insults_df['Insultos'], insults_df['Insultos_pred'])\n",
    "\n",
    "# Visualizar la matriz de confusión con Seaborn\n",
    "plt.figure(figsize=(8, 6))\n",
    "sns.heatmap(cm, annot=True, fmt='d', cmap='Blues', cbar=False)\n",
    "plt.xlabel('Predicted Label')\n",
    "plt.ylabel('True Label')\n",
    "plt.title('Confusion Matrix')\n",
    "plt.show()\n"
   ]
  },
  {
   "cell_type": "code",
   "execution_count": null,
   "metadata": {},
   "outputs": [],
   "source": []
  }
 ],
 "metadata": {
  "kernelspec": {
   "display_name": "Python 3",
   "language": "python",
   "name": "python3"
  },
  "language_info": {
   "codemirror_mode": {
    "name": "ipython",
    "version": 3
   },
   "file_extension": ".py",
   "mimetype": "text/x-python",
   "name": "python",
   "nbconvert_exporter": "python",
   "pygments_lexer": "ipython3",
   "version": "3.11.2"
  }
 },
 "nbformat": 4,
 "nbformat_minor": 2
}
