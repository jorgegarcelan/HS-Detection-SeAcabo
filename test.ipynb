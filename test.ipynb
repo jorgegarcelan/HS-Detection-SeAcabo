{
 "cells": [
  {
   "cell_type": "code",
   "execution_count": 1,
   "metadata": {},
   "outputs": [
    {
     "name": "stdout",
     "output_type": "stream",
     "text": [
      "Requirement already satisfied: pandas in c:\\users\\jorge\\appdata\\local\\programs\\python\\python311\\lib\\site-packages (2.1.1)\n",
      "Requirement already satisfied: numpy>=1.23.2 in c:\\users\\jorge\\appdata\\local\\programs\\python\\python311\\lib\\site-packages (from pandas) (1.26.0)\n",
      "Requirement already satisfied: python-dateutil>=2.8.2 in c:\\users\\jorge\\appdata\\local\\programs\\python\\python311\\lib\\site-packages (from pandas) (2.8.2)\n",
      "Requirement already satisfied: pytz>=2020.1 in c:\\users\\jorge\\appdata\\local\\programs\\python\\python311\\lib\\site-packages (from pandas) (2023.3.post1)\n",
      "Requirement already satisfied: tzdata>=2022.1 in c:\\users\\jorge\\appdata\\local\\programs\\python\\python311\\lib\\site-packages (from pandas) (2023.3)\n",
      "Requirement already satisfied: six>=1.5 in c:\\users\\jorge\\appdata\\local\\programs\\python\\python311\\lib\\site-packages (from python-dateutil>=2.8.2->pandas) (1.16.0)\n",
      "Note: you may need to restart the kernel to use updated packages.\n"
     ]
    },
    {
     "name": "stderr",
     "output_type": "stream",
     "text": [
      "\n",
      "[notice] A new release of pip is available: 23.3 -> 23.3.1\n",
      "[notice] To update, run: python.exe -m pip install --upgrade pip\n"
     ]
    },
    {
     "name": "stdout",
     "output_type": "stream",
     "text": [
      "Requirement already satisfied: matplotlib in c:\\users\\jorge\\appdata\\local\\programs\\python\\python311\\lib\\site-packages (3.7.1)\n",
      "Requirement already satisfied: contourpy>=1.0.1 in c:\\users\\jorge\\appdata\\local\\programs\\python\\python311\\lib\\site-packages (from matplotlib) (1.0.7)\n",
      "Requirement already satisfied: cycler>=0.10 in c:\\users\\jorge\\appdata\\local\\programs\\python\\python311\\lib\\site-packages (from matplotlib) (0.11.0)\n",
      "Requirement already satisfied: fonttools>=4.22.0 in c:\\users\\jorge\\appdata\\local\\programs\\python\\python311\\lib\\site-packages (from matplotlib) (4.39.3)\n",
      "Requirement already satisfied: kiwisolver>=1.0.1 in c:\\users\\jorge\\appdata\\local\\programs\\python\\python311\\lib\\site-packages (from matplotlib) (1.4.4)\n",
      "Requirement already satisfied: numpy>=1.20 in c:\\users\\jorge\\appdata\\local\\programs\\python\\python311\\lib\\site-packages (from matplotlib) (1.26.0)\n",
      "Requirement already satisfied: packaging>=20.0 in c:\\users\\jorge\\appdata\\local\\programs\\python\\python311\\lib\\site-packages (from matplotlib) (23.2)\n",
      "Requirement already satisfied: pillow>=6.2.0 in c:\\users\\jorge\\appdata\\local\\programs\\python\\python311\\lib\\site-packages (from matplotlib) (9.5.0)\n",
      "Requirement already satisfied: pyparsing>=2.3.1 in c:\\users\\jorge\\appdata\\local\\programs\\python\\python311\\lib\\site-packages (from matplotlib) (3.0.9)\n",
      "Requirement already satisfied: python-dateutil>=2.7 in c:\\users\\jorge\\appdata\\local\\programs\\python\\python311\\lib\\site-packages (from matplotlib) (2.8.2)\n",
      "Requirement already satisfied: six>=1.5 in c:\\users\\jorge\\appdata\\local\\programs\\python\\python311\\lib\\site-packages (from python-dateutil>=2.7->matplotlib) (1.16.0)\n",
      "Note: you may need to restart the kernel to use updated packages.\n"
     ]
    },
    {
     "name": "stderr",
     "output_type": "stream",
     "text": [
      "\n",
      "[notice] A new release of pip is available: 23.3 -> 23.3.1\n",
      "[notice] To update, run: python.exe -m pip install --upgrade pip\n"
     ]
    }
   ],
   "source": [
    "%pip install pandas\n",
    "%pip install matplotlib"
   ]
  },
  {
   "cell_type": "code",
   "execution_count": 12,
   "metadata": {},
   "outputs": [],
   "source": [
    "import pandas as pd\n",
    "import matplotlib  \n",
    "import nltk\n",
    "from nltk.corpus import stopwords\n",
    "from nltk.tokenize import word_tokenize\n",
    "import string\n",
    "import numpy as np\n"
   ]
  },
  {
   "cell_type": "markdown",
   "metadata": {},
   "source": [
    "## Import Data"
   ]
  },
  {
   "cell_type": "code",
   "execution_count": 30,
   "metadata": {},
   "outputs": [
    {
     "data": {
      "text/plain": [
       "20291"
      ]
     },
     "execution_count": 30,
     "metadata": {},
     "output_type": "execute_result"
    }
   ],
   "source": [
    "tweets = pd.read_csv('seacabo_2023.csv')\n",
    "tweets['timestamp'] = pd.to_datetime(tweets['timestamp'])\n",
    "\n",
    "#tweets = df['text'].tolist()\n",
    "len(tweets)"
   ]
  },
  {
   "cell_type": "markdown",
   "metadata": {},
   "source": [
    "## Procesado de Datos"
   ]
  },
  {
   "cell_type": "code",
   "execution_count": 31,
   "metadata": {},
   "outputs": [
    {
     "name": "stderr",
     "output_type": "stream",
     "text": [
      "[nltk_data] Downloading package stopwords to\n",
      "[nltk_data]     C:\\Users\\jorge\\AppData\\Roaming\\nltk_data...\n",
      "[nltk_data]   Package stopwords is already up-to-date!\n",
      "[nltk_data] Downloading package punkt to\n",
      "[nltk_data]     C:\\Users\\jorge\\AppData\\Roaming\\nltk_data...\n",
      "[nltk_data]   Package punkt is already up-to-date!\n"
     ]
    }
   ],
   "source": [
    "# descargamos datasets en español para preprocesado del texto\n",
    "nltk.download('stopwords')\n",
    "nltk.download('punkt')\n",
    "\n",
    "def remove_spanish_stopwords(text):\n",
    "    # Remove punctuation\n",
    "    text = ''.join([char for char in text if char not in string.punctuation])\n",
    "    \n",
    "    spanish_stopwords = set(stopwords.words('spanish'))\n",
    "    spanish_stopwords.remove(\"no\")  # Keep the word \"no\" in the text\n",
    "    words = word_tokenize(text)\n",
    "    filtered_words = [word.lower() for word in words if word.lower() not in spanish_stopwords]\n",
    "    return ' '.join(filtered_words)  # Joining the words back into a string\n",
    "\n",
    "\n",
    "\n",
    "tweets['text proc'] = tweets['text'].apply(remove_spanish_stopwords)"
   ]
  },
  {
   "cell_type": "code",
   "execution_count": 32,
   "metadata": {},
   "outputs": [
    {
     "data": {
      "text/html": [
       "<div>\n",
       "<style scoped>\n",
       "    .dataframe tbody tr th:only-of-type {\n",
       "        vertical-align: middle;\n",
       "    }\n",
       "\n",
       "    .dataframe tbody tr th {\n",
       "        vertical-align: top;\n",
       "    }\n",
       "\n",
       "    .dataframe thead th {\n",
       "        text-align: right;\n",
       "    }\n",
       "</style>\n",
       "<table border=\"1\" class=\"dataframe\">\n",
       "  <thead>\n",
       "    <tr style=\"text-align: right;\">\n",
       "      <th></th>\n",
       "      <th>Unnamed: 0</th>\n",
       "      <th>tweet_avatar</th>\n",
       "      <th>tweet_id</th>\n",
       "      <th>url</th>\n",
       "      <th>query</th>\n",
       "      <th>text</th>\n",
       "      <th>username</th>\n",
       "      <th>fullname</th>\n",
       "      <th>timestamp</th>\n",
       "      <th>language</th>\n",
       "      <th>...</th>\n",
       "      <th>likes</th>\n",
       "      <th>banner_image</th>\n",
       "      <th>total_tweets</th>\n",
       "      <th>num_following</th>\n",
       "      <th>num_followers</th>\n",
       "      <th>total_likes</th>\n",
       "      <th>tweet_links</th>\n",
       "      <th>tweet_hashtags</th>\n",
       "      <th>tweet_mentions</th>\n",
       "      <th>text proc</th>\n",
       "    </tr>\n",
       "  </thead>\n",
       "  <tbody>\n",
       "    <tr>\n",
       "      <th>0</th>\n",
       "      <td>0</td>\n",
       "      <td>https://pbs.twimg.com/profile_images/170563079...</td>\n",
       "      <td>1609386752392982528</td>\n",
       "      <td>https://twitter.com/TitoHerrera/status/1609386...</td>\n",
       "      <td>#seacabó OR #seacabo since:2023-1-1 until:2023...</td>\n",
       "      <td>Este año 2022, a principios de año me propuse ...</td>\n",
       "      <td>@TitoHerrera</td>\n",
       "      <td>Tito Herrera</td>\n",
       "      <td>2023-01-01 03:11:00+00:00</td>\n",
       "      <td>NaN</td>\n",
       "      <td>...</td>\n",
       "      <td>1</td>\n",
       "      <td>NaN</td>\n",
       "      <td>NaN</td>\n",
       "      <td>NaN</td>\n",
       "      <td>NaN</td>\n",
       "      <td>NaN</td>\n",
       "      <td>[]</td>\n",
       "      <td>['#buenaño', '#seacabo', '#metas', '#seguimos']</td>\n",
       "      <td>[]</td>\n",
       "      <td>año 2022 principios año propuse meta perder 20...</td>\n",
       "    </tr>\n",
       "    <tr>\n",
       "      <th>1</th>\n",
       "      <td>1</td>\n",
       "      <td>https://pbs.twimg.com/profile_images/165415448...</td>\n",
       "      <td>1609342355001466882</td>\n",
       "      <td>https://twitter.com/nachoacantautor/status/160...</td>\n",
       "      <td>#seacabó OR #seacabo since:2023-1-1 until:2023...</td>\n",
       "      <td>Gracias Dios, año 2022, familia y amigos (nuev...</td>\n",
       "      <td>@nachoacantautor</td>\n",
       "      <td>Nacho Acuña</td>\n",
       "      <td>2023-01-01 00:14:00+00:00</td>\n",
       "      <td>NaN</td>\n",
       "      <td>...</td>\n",
       "      <td>0</td>\n",
       "      <td>NaN</td>\n",
       "      <td>NaN</td>\n",
       "      <td>NaN</td>\n",
       "      <td>NaN</td>\n",
       "      <td>NaN</td>\n",
       "      <td>[]</td>\n",
       "      <td>['#felizañonuevo2023', '#seacabo', '#agradecid...</td>\n",
       "      <td>[]</td>\n",
       "      <td>gracias dios año 2022 familia amigos nuevos an...</td>\n",
       "    </tr>\n",
       "    <tr>\n",
       "      <th>2</th>\n",
       "      <td>2</td>\n",
       "      <td>https://pbs.twimg.com/profile_images/922539646...</td>\n",
       "      <td>1609925152808001541</td>\n",
       "      <td>https://twitter.com/delrecords/status/16099251...</td>\n",
       "      <td>#seacabó OR #seacabo since:2023-1-2 until:2023...</td>\n",
       "      <td>Sigue pidiendo #SeAcabo en tu radio favorita 📻...</td>\n",
       "      <td>@delrecords</td>\n",
       "      <td>DEL Records</td>\n",
       "      <td>2023-01-02 14:50:00+00:00</td>\n",
       "      <td>NaN</td>\n",
       "      <td>...</td>\n",
       "      <td>0</td>\n",
       "      <td>NaN</td>\n",
       "      <td>NaN</td>\n",
       "      <td>NaN</td>\n",
       "      <td>NaN</td>\n",
       "      <td>NaN</td>\n",
       "      <td>[]</td>\n",
       "      <td>['#SeAcabo', '#LeninRamirez', '#DELRecords']</td>\n",
       "      <td>[]</td>\n",
       "      <td>sigue pidiendo seacabo radio favorita 📻🔥🎵📲 len...</td>\n",
       "    </tr>\n",
       "    <tr>\n",
       "      <th>3</th>\n",
       "      <td>3</td>\n",
       "      <td>https://pbs.twimg.com/profile_images/171403345...</td>\n",
       "      <td>1609737894159163394</td>\n",
       "      <td>https://twitter.com/canquesruiz/status/1609737...</td>\n",
       "      <td>#seacabó OR #seacabo since:2023-1-2 until:2023...</td>\n",
       "      <td>Primer día del #Año2023...#seacabo.</td>\n",
       "      <td>@canquesruiz</td>\n",
       "      <td>miguel angel ruiz</td>\n",
       "      <td>2023-01-02 02:26:00+00:00</td>\n",
       "      <td>NaN</td>\n",
       "      <td>...</td>\n",
       "      <td>1</td>\n",
       "      <td>NaN</td>\n",
       "      <td>NaN</td>\n",
       "      <td>NaN</td>\n",
       "      <td>NaN</td>\n",
       "      <td>NaN</td>\n",
       "      <td>[]</td>\n",
       "      <td>['#Año2023', '#seacabo']</td>\n",
       "      <td>[]</td>\n",
       "      <td>primer día año2023seacabo</td>\n",
       "    </tr>\n",
       "    <tr>\n",
       "      <th>4</th>\n",
       "      <td>4</td>\n",
       "      <td>https://pbs.twimg.com/profile_images/167519772...</td>\n",
       "      <td>1610424805077184512</td>\n",
       "      <td>https://twitter.com/hugo_vaargas/status/161042...</td>\n",
       "      <td>#seacabó OR #seacabo since:2023-1-3 until:2023...</td>\n",
       "      <td>Igual de inútil que mi ultimo intento de relac...</td>\n",
       "      <td>@hugo_vaargas</td>\n",
       "      <td>HUGOVAARGAS</td>\n",
       "      <td>2023-01-03 23:56:00+00:00</td>\n",
       "      <td>NaN</td>\n",
       "      <td>...</td>\n",
       "      <td>0</td>\n",
       "      <td>NaN</td>\n",
       "      <td>NaN</td>\n",
       "      <td>NaN</td>\n",
       "      <td>NaN</td>\n",
       "      <td>NaN</td>\n",
       "      <td>[]</td>\n",
       "      <td>['#seacabo']</td>\n",
       "      <td>[]</td>\n",
       "      <td>igual inútil ultimo intento relación hoy tire ...</td>\n",
       "    </tr>\n",
       "  </tbody>\n",
       "</table>\n",
       "<p>5 rows × 25 columns</p>\n",
       "</div>"
      ],
      "text/plain": [
       "   Unnamed: 0                                       tweet_avatar  \\\n",
       "0           0  https://pbs.twimg.com/profile_images/170563079...   \n",
       "1           1  https://pbs.twimg.com/profile_images/165415448...   \n",
       "2           2  https://pbs.twimg.com/profile_images/922539646...   \n",
       "3           3  https://pbs.twimg.com/profile_images/171403345...   \n",
       "4           4  https://pbs.twimg.com/profile_images/167519772...   \n",
       "\n",
       "              tweet_id                                                url  \\\n",
       "0  1609386752392982528  https://twitter.com/TitoHerrera/status/1609386...   \n",
       "1  1609342355001466882  https://twitter.com/nachoacantautor/status/160...   \n",
       "2  1609925152808001541  https://twitter.com/delrecords/status/16099251...   \n",
       "3  1609737894159163394  https://twitter.com/canquesruiz/status/1609737...   \n",
       "4  1610424805077184512  https://twitter.com/hugo_vaargas/status/161042...   \n",
       "\n",
       "                                               query  \\\n",
       "0  #seacabó OR #seacabo since:2023-1-1 until:2023...   \n",
       "1  #seacabó OR #seacabo since:2023-1-1 until:2023...   \n",
       "2  #seacabó OR #seacabo since:2023-1-2 until:2023...   \n",
       "3  #seacabó OR #seacabo since:2023-1-2 until:2023...   \n",
       "4  #seacabó OR #seacabo since:2023-1-3 until:2023...   \n",
       "\n",
       "                                                text          username  \\\n",
       "0  Este año 2022, a principios de año me propuse ...      @TitoHerrera   \n",
       "1  Gracias Dios, año 2022, familia y amigos (nuev...  @nachoacantautor   \n",
       "2  Sigue pidiendo #SeAcabo en tu radio favorita 📻...       @delrecords   \n",
       "3                Primer día del #Año2023...#seacabo.      @canquesruiz   \n",
       "4  Igual de inútil que mi ultimo intento de relac...     @hugo_vaargas   \n",
       "\n",
       "            fullname                 timestamp  language  ... likes  \\\n",
       "0       Tito Herrera 2023-01-01 03:11:00+00:00       NaN  ...     1   \n",
       "1        Nacho Acuña 2023-01-01 00:14:00+00:00       NaN  ...     0   \n",
       "2        DEL Records 2023-01-02 14:50:00+00:00       NaN  ...     0   \n",
       "3  miguel angel ruiz 2023-01-02 02:26:00+00:00       NaN  ...     1   \n",
       "4        HUGOVAARGAS 2023-01-03 23:56:00+00:00       NaN  ...     0   \n",
       "\n",
       "   banner_image  total_tweets  num_following num_followers  total_likes  \\\n",
       "0           NaN           NaN            NaN           NaN          NaN   \n",
       "1           NaN           NaN            NaN           NaN          NaN   \n",
       "2           NaN           NaN            NaN           NaN          NaN   \n",
       "3           NaN           NaN            NaN           NaN          NaN   \n",
       "4           NaN           NaN            NaN           NaN          NaN   \n",
       "\n",
       "   tweet_links                                     tweet_hashtags  \\\n",
       "0           []    ['#buenaño', '#seacabo', '#metas', '#seguimos']   \n",
       "1           []  ['#felizañonuevo2023', '#seacabo', '#agradecid...   \n",
       "2           []       ['#SeAcabo', '#LeninRamirez', '#DELRecords']   \n",
       "3           []                           ['#Año2023', '#seacabo']   \n",
       "4           []                                       ['#seacabo']   \n",
       "\n",
       "   tweet_mentions                                          text proc  \n",
       "0              []  año 2022 principios año propuse meta perder 20...  \n",
       "1              []  gracias dios año 2022 familia amigos nuevos an...  \n",
       "2              []  sigue pidiendo seacabo radio favorita 📻🔥🎵📲 len...  \n",
       "3              []                          primer día año2023seacabo  \n",
       "4              []  igual inútil ultimo intento relación hoy tire ...  \n",
       "\n",
       "[5 rows x 25 columns]"
      ]
     },
     "execution_count": 32,
     "metadata": {},
     "output_type": "execute_result"
    }
   ],
   "source": [
    "# ejemplo de datos\n",
    "tweets.head()"
   ]
  },
  {
   "cell_type": "code",
   "execution_count": 33,
   "metadata": {},
   "outputs": [
    {
     "data": {
      "text/html": [
       "<div>\n",
       "<style scoped>\n",
       "    .dataframe tbody tr th:only-of-type {\n",
       "        vertical-align: middle;\n",
       "    }\n",
       "\n",
       "    .dataframe tbody tr th {\n",
       "        vertical-align: top;\n",
       "    }\n",
       "\n",
       "    .dataframe thead th {\n",
       "        text-align: right;\n",
       "    }\n",
       "</style>\n",
       "<table border=\"1\" class=\"dataframe\">\n",
       "  <thead>\n",
       "    <tr style=\"text-align: right;\">\n",
       "      <th></th>\n",
       "      <th>Unnamed: 0</th>\n",
       "      <th>tweet_avatar</th>\n",
       "      <th>tweet_id</th>\n",
       "      <th>url</th>\n",
       "      <th>query</th>\n",
       "      <th>text</th>\n",
       "      <th>username</th>\n",
       "      <th>fullname</th>\n",
       "      <th>timestamp</th>\n",
       "      <th>language</th>\n",
       "      <th>...</th>\n",
       "      <th>banner_image</th>\n",
       "      <th>total_tweets</th>\n",
       "      <th>num_following</th>\n",
       "      <th>num_followers</th>\n",
       "      <th>total_likes</th>\n",
       "      <th>tweet_links</th>\n",
       "      <th>tweet_hashtags</th>\n",
       "      <th>tweet_mentions</th>\n",
       "      <th>text proc</th>\n",
       "      <th>text vect</th>\n",
       "    </tr>\n",
       "  </thead>\n",
       "  <tbody>\n",
       "    <tr>\n",
       "      <th>0</th>\n",
       "      <td>0</td>\n",
       "      <td>https://pbs.twimg.com/profile_images/170563079...</td>\n",
       "      <td>1609386752392982528</td>\n",
       "      <td>https://twitter.com/TitoHerrera/status/1609386...</td>\n",
       "      <td>#seacabó OR #seacabo since:2023-1-1 until:2023...</td>\n",
       "      <td>Este año 2022, a principios de año me propuse ...</td>\n",
       "      <td>@TitoHerrera</td>\n",
       "      <td>Tito Herrera</td>\n",
       "      <td>2023-01-01 03:11:00+00:00</td>\n",
       "      <td>NaN</td>\n",
       "      <td>...</td>\n",
       "      <td>NaN</td>\n",
       "      <td>NaN</td>\n",
       "      <td>NaN</td>\n",
       "      <td>NaN</td>\n",
       "      <td>NaN</td>\n",
       "      <td>[]</td>\n",
       "      <td>['#buenaño', '#seacabo', '#metas', '#seguimos']</td>\n",
       "      <td>[]</td>\n",
       "      <td>año 2022 principios año propuse meta perder 20...</td>\n",
       "      <td>[0.5164043, 0.20603506, 0.12857926, 0.21392079...</td>\n",
       "    </tr>\n",
       "    <tr>\n",
       "      <th>1</th>\n",
       "      <td>1</td>\n",
       "      <td>https://pbs.twimg.com/profile_images/165415448...</td>\n",
       "      <td>1609342355001466882</td>\n",
       "      <td>https://twitter.com/nachoacantautor/status/160...</td>\n",
       "      <td>#seacabó OR #seacabo since:2023-1-1 until:2023...</td>\n",
       "      <td>Gracias Dios, año 2022, familia y amigos (nuev...</td>\n",
       "      <td>@nachoacantautor</td>\n",
       "      <td>Nacho Acuña</td>\n",
       "      <td>2023-01-01 00:14:00+00:00</td>\n",
       "      <td>NaN</td>\n",
       "      <td>...</td>\n",
       "      <td>NaN</td>\n",
       "      <td>NaN</td>\n",
       "      <td>NaN</td>\n",
       "      <td>NaN</td>\n",
       "      <td>NaN</td>\n",
       "      <td>[]</td>\n",
       "      <td>['#felizañonuevo2023', '#seacabo', '#agradecid...</td>\n",
       "      <td>[]</td>\n",
       "      <td>gracias dios año 2022 familia amigos nuevos an...</td>\n",
       "      <td>[0.4717646, 0.3036239, -0.001891203, 0.2243815...</td>\n",
       "    </tr>\n",
       "    <tr>\n",
       "      <th>2</th>\n",
       "      <td>2</td>\n",
       "      <td>https://pbs.twimg.com/profile_images/922539646...</td>\n",
       "      <td>1609925152808001541</td>\n",
       "      <td>https://twitter.com/delrecords/status/16099251...</td>\n",
       "      <td>#seacabó OR #seacabo since:2023-1-2 until:2023...</td>\n",
       "      <td>Sigue pidiendo #SeAcabo en tu radio favorita 📻...</td>\n",
       "      <td>@delrecords</td>\n",
       "      <td>DEL Records</td>\n",
       "      <td>2023-01-02 14:50:00+00:00</td>\n",
       "      <td>NaN</td>\n",
       "      <td>...</td>\n",
       "      <td>NaN</td>\n",
       "      <td>NaN</td>\n",
       "      <td>NaN</td>\n",
       "      <td>NaN</td>\n",
       "      <td>NaN</td>\n",
       "      <td>[]</td>\n",
       "      <td>['#SeAcabo', '#LeninRamirez', '#DELRecords']</td>\n",
       "      <td>[]</td>\n",
       "      <td>sigue pidiendo seacabo radio favorita 📻🔥🎵📲 len...</td>\n",
       "      <td>[0.40249947, 0.3126227, 0.20573096, -0.0195761...</td>\n",
       "    </tr>\n",
       "    <tr>\n",
       "      <th>3</th>\n",
       "      <td>3</td>\n",
       "      <td>https://pbs.twimg.com/profile_images/171403345...</td>\n",
       "      <td>1609737894159163394</td>\n",
       "      <td>https://twitter.com/canquesruiz/status/1609737...</td>\n",
       "      <td>#seacabó OR #seacabo since:2023-1-2 until:2023...</td>\n",
       "      <td>Primer día del #Año2023...#seacabo.</td>\n",
       "      <td>@canquesruiz</td>\n",
       "      <td>miguel angel ruiz</td>\n",
       "      <td>2023-01-02 02:26:00+00:00</td>\n",
       "      <td>NaN</td>\n",
       "      <td>...</td>\n",
       "      <td>NaN</td>\n",
       "      <td>NaN</td>\n",
       "      <td>NaN</td>\n",
       "      <td>NaN</td>\n",
       "      <td>NaN</td>\n",
       "      <td>[]</td>\n",
       "      <td>['#Año2023', '#seacabo']</td>\n",
       "      <td>[]</td>\n",
       "      <td>primer día año2023seacabo</td>\n",
       "      <td>[0.55974084, 0.5588887, -0.0067388862, 0.28903...</td>\n",
       "    </tr>\n",
       "    <tr>\n",
       "      <th>4</th>\n",
       "      <td>4</td>\n",
       "      <td>https://pbs.twimg.com/profile_images/167519772...</td>\n",
       "      <td>1610424805077184512</td>\n",
       "      <td>https://twitter.com/hugo_vaargas/status/161042...</td>\n",
       "      <td>#seacabó OR #seacabo since:2023-1-3 until:2023...</td>\n",
       "      <td>Igual de inútil que mi ultimo intento de relac...</td>\n",
       "      <td>@hugo_vaargas</td>\n",
       "      <td>HUGOVAARGAS</td>\n",
       "      <td>2023-01-03 23:56:00+00:00</td>\n",
       "      <td>NaN</td>\n",
       "      <td>...</td>\n",
       "      <td>NaN</td>\n",
       "      <td>NaN</td>\n",
       "      <td>NaN</td>\n",
       "      <td>NaN</td>\n",
       "      <td>NaN</td>\n",
       "      <td>[]</td>\n",
       "      <td>['#seacabo']</td>\n",
       "      <td>[]</td>\n",
       "      <td>igual inútil ultimo intento relación hoy tire ...</td>\n",
       "      <td>[0.29701886, 0.24945071, 0.23417962, 0.1674202...</td>\n",
       "    </tr>\n",
       "  </tbody>\n",
       "</table>\n",
       "<p>5 rows × 26 columns</p>\n",
       "</div>"
      ],
      "text/plain": [
       "   Unnamed: 0                                       tweet_avatar  \\\n",
       "0           0  https://pbs.twimg.com/profile_images/170563079...   \n",
       "1           1  https://pbs.twimg.com/profile_images/165415448...   \n",
       "2           2  https://pbs.twimg.com/profile_images/922539646...   \n",
       "3           3  https://pbs.twimg.com/profile_images/171403345...   \n",
       "4           4  https://pbs.twimg.com/profile_images/167519772...   \n",
       "\n",
       "              tweet_id                                                url  \\\n",
       "0  1609386752392982528  https://twitter.com/TitoHerrera/status/1609386...   \n",
       "1  1609342355001466882  https://twitter.com/nachoacantautor/status/160...   \n",
       "2  1609925152808001541  https://twitter.com/delrecords/status/16099251...   \n",
       "3  1609737894159163394  https://twitter.com/canquesruiz/status/1609737...   \n",
       "4  1610424805077184512  https://twitter.com/hugo_vaargas/status/161042...   \n",
       "\n",
       "                                               query  \\\n",
       "0  #seacabó OR #seacabo since:2023-1-1 until:2023...   \n",
       "1  #seacabó OR #seacabo since:2023-1-1 until:2023...   \n",
       "2  #seacabó OR #seacabo since:2023-1-2 until:2023...   \n",
       "3  #seacabó OR #seacabo since:2023-1-2 until:2023...   \n",
       "4  #seacabó OR #seacabo since:2023-1-3 until:2023...   \n",
       "\n",
       "                                                text          username  \\\n",
       "0  Este año 2022, a principios de año me propuse ...      @TitoHerrera   \n",
       "1  Gracias Dios, año 2022, familia y amigos (nuev...  @nachoacantautor   \n",
       "2  Sigue pidiendo #SeAcabo en tu radio favorita 📻...       @delrecords   \n",
       "3                Primer día del #Año2023...#seacabo.      @canquesruiz   \n",
       "4  Igual de inútil que mi ultimo intento de relac...     @hugo_vaargas   \n",
       "\n",
       "            fullname                 timestamp  language  ... banner_image  \\\n",
       "0       Tito Herrera 2023-01-01 03:11:00+00:00       NaN  ...          NaN   \n",
       "1        Nacho Acuña 2023-01-01 00:14:00+00:00       NaN  ...          NaN   \n",
       "2        DEL Records 2023-01-02 14:50:00+00:00       NaN  ...          NaN   \n",
       "3  miguel angel ruiz 2023-01-02 02:26:00+00:00       NaN  ...          NaN   \n",
       "4        HUGOVAARGAS 2023-01-03 23:56:00+00:00       NaN  ...          NaN   \n",
       "\n",
       "   total_tweets  num_following  num_followers total_likes  tweet_links  \\\n",
       "0           NaN            NaN            NaN         NaN           []   \n",
       "1           NaN            NaN            NaN         NaN           []   \n",
       "2           NaN            NaN            NaN         NaN           []   \n",
       "3           NaN            NaN            NaN         NaN           []   \n",
       "4           NaN            NaN            NaN         NaN           []   \n",
       "\n",
       "                                      tweet_hashtags  tweet_mentions  \\\n",
       "0    ['#buenaño', '#seacabo', '#metas', '#seguimos']              []   \n",
       "1  ['#felizañonuevo2023', '#seacabo', '#agradecid...              []   \n",
       "2       ['#SeAcabo', '#LeninRamirez', '#DELRecords']              []   \n",
       "3                           ['#Año2023', '#seacabo']              []   \n",
       "4                                       ['#seacabo']              []   \n",
       "\n",
       "                                           text proc  \\\n",
       "0  año 2022 principios año propuse meta perder 20...   \n",
       "1  gracias dios año 2022 familia amigos nuevos an...   \n",
       "2  sigue pidiendo seacabo radio favorita 📻🔥🎵📲 len...   \n",
       "3                          primer día año2023seacabo   \n",
       "4  igual inútil ultimo intento relación hoy tire ...   \n",
       "\n",
       "                                           text vect  \n",
       "0  [0.5164043, 0.20603506, 0.12857926, 0.21392079...  \n",
       "1  [0.4717646, 0.3036239, -0.001891203, 0.2243815...  \n",
       "2  [0.40249947, 0.3126227, 0.20573096, -0.0195761...  \n",
       "3  [0.55974084, 0.5588887, -0.0067388862, 0.28903...  \n",
       "4  [0.29701886, 0.24945071, 0.23417962, 0.1674202...  \n",
       "\n",
       "[5 rows x 26 columns]"
      ]
     },
     "execution_count": 33,
     "metadata": {},
     "output_type": "execute_result"
    }
   ],
   "source": [
    "from gensim.models.fasttext import FastText\n",
    "\n",
    "# Create a FastText model\n",
    "sentences = tweets['text proc'].str.split().tolist()\n",
    "embedding_size = 100  # you can adjust this value as needed\n",
    "model = FastText(sentences, vector_size=embedding_size, window=5, min_count=1, workers=4, sg=1, epochs=10)\n",
    "\n",
    "# Convert text data into FastText embeddings\n",
    "def text_to_vector(text):\n",
    "    words = text.split()\n",
    "    vector = np.mean([model.wv[word] for word in words if word in model.wv.index_to_key], axis=0)\n",
    "    return vector\n",
    "\n",
    "tweets['text vect'] = tweets['text proc'].apply(text_to_vector)\n",
    "\n",
    "X = np.stack(tweets['text vect'].values)\n",
    "#y = df['Rating Local'].values\n",
    "\n",
    "tweets.head()"
   ]
  },
  {
   "cell_type": "code",
   "execution_count": 34,
   "metadata": {},
   "outputs": [
    {
     "name": "stderr",
     "output_type": "stream",
     "text": [
      "c:\\Users\\jorge\\AppData\\Local\\Programs\\Python\\Python311\\Lib\\site-packages\\IPython\\core\\pylabtools.py:152: UserWarning:\n",
      "\n",
      "Glyph 128156 (\\N{PURPLE HEART}) missing from current font.\n",
      "\n"
     ]
    },
    {
     "data": {
      "image/png": "[encoded data removed]",
      "text/plain": [
       "<Figure size 1500x1500 with 1 Axes>"
      ]
     },
     "metadata": {},
     "output_type": "display_data"
    }
   ],
   "source": [
    "import matplotlib.pyplot as plt\n",
    "from sklearn.manifold import TSNE\n",
    "\n",
    "\n",
    "# Assuming 'model' is your trained FastText model\n",
    "words = list(model.wv.index_to_key) [:300]  # Taking the first 200 words for visualization\n",
    "vectors = np.array([model.wv[word] for word in words])\n",
    "\n",
    "\n",
    "tsne = TSNE(n_components=2, random_state=42, n_iter=300, perplexity=5)\n",
    "tsne_results = tsne.fit_transform(vectors)\n",
    "\n",
    "\n",
    "plt.figure(figsize=(15, 15))\n",
    "plt.scatter(tsne_results[:, 0], tsne_results[:, 1])\n",
    "\n",
    "# Annotate each point with its corresponding word\n",
    "for i, word in enumerate(words):\n",
    "    plt.annotate(word, xy=(tsne_results[i, 0], tsne_results[i, 1]), xytext=(5, 2), \n",
    "                 textcoords='offset points', ha='right', va='bottom', fontsize=10)\n",
    "\n",
    "plt.show()"
   ]
  },
  {
   "cell_type": "code",
   "execution_count": 35,
   "metadata": {},
   "outputs": [
    {
     "name": "stdout",
     "output_type": "stream",
     "text": [
      "5.7.3\n"
     ]
    },
    {
     "data": {
      "application/vnd.plotly.v1+json": {
       "config": {
        "plotlyServerURL": "https://plot.ly"
       },
       "data": [
        {
         "hovertemplate": "x=%{x}<br>y=%{y}<br>z=%{z}<br>word=%{text}<extra></extra>",
         "legendgroup": "",
         "marker": {
          "color": "#636efa",
          "symbol": "circle"
         },
         "mode": "markers+text",
         "name": "",
         "scene": "scene",
         "showlegend": false,
         "text": [
          "seacabó",
          "no",
          "seacabo",
          "rubiales",
          "si",
          "mujeres",
          "fútbol",
          "q",
          "jenni",
          "españa",
          "mundo",
          "todas",
          "ser",
          "rfef",
          "gracias",
          "ahora",
          "jugadoras",
          "selección",
          "hermoso",
          "machista",
          "campeonas",
          "ver",
          "machismo",
          "femenino",
          "solo",
          "“",
          "va",
          "jennihermoso",
          "hoy",
          "así",
          "”",
          "bien",
          "siempre",
          "mujer",
          "sexual",
          "apoyo",
          "hace",
          "vergüenza",
          "puede",
          "violencia",
          "hacer",
          "igualdad",
          "pues",
          "años",
          "decir",
          "feminismo",
          "día",
          "vez",
          "sociedad",
          "agresión",
          "tan",
          "poder",
          "toda",
          "machistas",
          "mundial",
          "mejor",
          "país",
          "claro",
          "lucha",
          "psoe",
          "nunca",
          "española",
          "podemos",
          "hombres",
          "cada",
          "menos",
          "aquí",
          "hecho",
          "víctima",
          "beso",
          "futbolistas",
          "d",
          "verdad",
          "derechos",
          "caso",
          "abuso",
          "gente",
          "dice",
          "deporte",
          "mareafucsia",
          "da",
          "vida",
          "sanchezcastejon",
          "sido",
          "van",
          "contigo",
          "parte",
          "nadie",
          "vilda",
          "sólo",
          "vamos",
          "cosas",
          "mismo",
          "personas",
          "federación",
          "fin",
          "rtve",
          "haciendo",
          "cuenta",
          "comunicado",
          "irenemontero",
          "después",
          "acoso",
          "asco",
          "falta",
          "partido",
          "seguir",
          "cómo",
          "aún",
          "parece",
          "millones",
          "💜",
          "cualquier",
          "respeto",
          "justiciapararociocarrasco",
          "tiempo",
          "casareal",
          "debe",
          "feminista",
          "vía",
          "igual",
          "dos",
          "metoo",
          "irene",
          "momento",
          "mal",
          "mierda",
          "tener",
          "voy",
          "luis",
          "sigue",
          "acabó",
          "gran",
          "madre",
          "ley",
          "dar",
          "dimitir",
          "x",
          "creo",
          "futbol",
          "hombre",
          "muchas",
          "quieren",
          "presidente",
          "ir",
          "ejemplo",
          "dicho",
          "lahoratve",
          "femenina",
          "queda",
          "través",
          "gobierno",
          "basta",
          "sintxaurrondo",
          "solosiessi",
          "días",
          "grande",
          "paso",
          "mientras",
          "tras",
          "unas",
          "pasado",
          "maría",
          "tarde",
          "consentimiento",
          "psoeta",
          "historia",
          "final",
          "alexia",
          "tipo",
          "instituciones",
          "luego",
          "trabajo",
          "víctimas",
          "pasa",
          "abusos",
          "sanchezdictador",
          "contigojenni",
          "visto",
          "machirulos",
          "feministas",
          "poner",
          "español",
          "cero",
          "hacen",
          "chicas",
          "equipo",
          "ojalá",
          "tad",
          "ahí",
          "justicia",
          "compañeras",
          "2023",
          "movimiento",
          "espero",
          "casa",
          "haber",
          "debería",
          "persona",
          "1",
          "alguien",
          "vaya",
          "tolerancia",
          "denuncia",
          "cara",
          "montero",
          "encima",
          "siguen",
          "dignidad",
          "sefutbolfem",
          "feliz",
          "quién",
          "votos",
          "hablar",
          "jiménez",
          "importante",
          "social",
          "dando",
          "real",
          "nuevo",
          "peor",
          "vale",
          "2",
          "dentro",
          "jugadora",
          "mas",
          "problema",
          "pueden",
          "miedo",
          "aunque",
          "dado",
          "quiere",
          "pantalones",
          "favor",
          "grandes",
          "siendo",
          "lado",
          "queremos",
          "ppopular",
          "sino",
          "además",
          "salir",
          "bueno",
          "solosíessí",
          "aitana",
          "vídeo",
          "ninguna",
          "dicen",
          "voz",
          "frente",
          "compromiso",
          "pena",
          "sé",
          "sexuales",
          "año",
          "gobernar",
          "dan",
          "hora",
          "conducta",
          "culo",
          "consentido",
          "discurso",
          "género",
          "salud",
          "veces",
          "señoros",
          "mañana",
          "ehbildu",
          "vende",
          "esquerraerc",
          "denunciar",
          "dijo",
          "dimite",
          "volverán",
          "deportivas",
          "nombre",
          "yoconirenemontero",
          "patriarcado",
          "…",
          "juntsxcat",
          "vox",
          "campo",
          "sabe",
          "semana",
          "señor",
          "jorge",
          "todavía",
          "forma",
          "ve",
          "madrid",
          "calle",
          "hijas",
          "jugadores",
          "40",
          "diciendo",
          "trasero",
          "rompen",
          "atrás",
          "encomendará",
          "silencio"
         ],
         "type": "scatter3d",
         "x": [
          -9.189908027648926,
          -0.6000716090202332,
          -8.861710548400879,
          -6.8003973960876465,
          -2.733034610748291,
          10.493398666381836,
          4.717770099639893,
          -1.6469322443008423,
          -13.166725158691406,
          -1.3199292421340942,
          8.628766059875488,
          6.2642621994018555,
          0.34135007858276367,
          -7.331291675567627,
          2.995059013366699,
          1.4813342094421387,
          8.774210929870605,
          0.6450814604759216,
          -12.675472259521484,
          4.828840732574463,
          6.640475749969482,
          8.72244644165039,
          4.838569164276123,
          3.1395668983459473,
          -5.39207649230957,
          -4.896324634552002,
          4.515239715576172,
          -12.48845100402832,
          -1.940988302230835,
          1.9558162689208984,
          -4.900338649749756,
          10.944601058959961,
          -5.431241512298584,
          10.977657318115234,
          -2.9744064807891846,
          2.913646697998047,
          11.194619178771973,
          5.716217041015625,
          5.4900312423706055,
          -4.438605785369873,
          10.566658020019531,
          -10.9701509475708,
          3.6875669956207275,
          2.398524045944214,
          3.344099760055542,
          -2.500810146331787,
          -3.8396918773651123,
          -6.251095294952393,
          -1.0646084547042847,
          -2.941119909286499,
          9.87726879119873,
          -0.9361801147460938,
          9.648472785949707,
          4.789551734924316,
          7.574546813964844,
          5.076642990112305,
          2.5399887561798096,
          4.82737398147583,
          -0.8188677430152893,
          -4.87716007232666,
          4.074568748474121,
          -0.09896263480186462,
          -4.42623233795166,
          9.493938446044922,
          -3.3531556129455566,
          3.483994722366333,
          -2.6197621822357178,
          4.413621425628662,
          1.9322164058685303,
          -5.621009349822998,
          6.392038822174072,
          -1.2470388412475586,
          9.438093185424805,
          -1.7668732404708862,
          -0.005294958595186472,
          -1.144457221031189,
          -1.7530733346939087,
          5.961925029754639,
          -2.271023750305176,
          -8.008079528808594,
          4.013224124908447,
          -1.3270132541656494,
          -5.040606498718262,
          7.073142051696777,
          5.898125171661377,
          -10.44547176361084,
          2.412827491760254,
          6.535669803619385,
          -6.086227893829346,
          -5.355547904968262,
          -3.2692694664001465,
          7.901341438293457,
          4.602372646331787,
          5.473171710968018,
          0.18528446555137634,
          -3.9871904850006104,
          -9.592951774597168,
          11.21206283569336,
          -6.810956954956055,
          0.777331531047821,
          -8.185639381408691,
          2.10217022895813,
          -1.4118112325668335,
          5.375232219696045,
          0.6206677556037903,
          5.0291876792907715,
          9.903390884399414,
          2.7408344745635986,
          9.972814559936523,
          3.884316921234131,
          -6.9776930809021,
          -4.605615139007568,
          -6.475711345672607,
          -2.900663375854492,
          -7.442988395690918,
          4.565553188323975,
          -6.590896129608154,
          -3.2691457271575928,
          -2.6094846725463867,
          -8.757355690002441,
          -10.902949333190918,
          2.1411631107330322,
          -5.167817115783691,
          -8.788352012634277,
          -4.98470401763916,
          5.811842918395996,
          6.427257061004639,
          1.7770460844039917,
          -2.951603651046753,
          -5.503027439117432,
          12.19062328338623,
          -9.794702529907227,
          2.264606475830078,
          -2.45395827293396,
          -5.260995388031006,
          3.005483627319336,
          -3.8971197605133057,
          0.17677298188209534,
          1.3300074338912964,
          5.2763214111328125,
          8.927420616149902,
          7.431451797485352,
          6.3563008308410645,
          -3.349486827850342,
          4.896396636962891,
          -34.2672004699707,
          5.4048285484313965,
          -8.588980674743652,
          3.061005115509033,
          7.7347540855407715,
          -8.732379913330078,
          -0.25907838344573975,
          -0.9954930543899536,
          -9.060724258422852,
          -7.441926956176758,
          9.28641414642334,
          2.0313353538513184,
          -9.367688179016113,
          5.572758674621582,
          6.5132036209106445,
          8.887470245361328,
          5.824636459350586,
          -6.436150074005127,
          2.0579371452331543,
          -6.620340347290039,
          -6.987204551696777,
          6.311003684997559,
          -3.988097906112671,
          1.1759529113769531,
          1.3396936655044556,
          -3.453054904937744,
          41.32859420776367,
          -0.4594894349575043,
          1.9650650024414062,
          -3.1044468879699707,
          -0.5977951288223267,
          -10.075323104858398,
          -10.69644546508789,
          5.81846809387207,
          4.621318340301514,
          -3.2343926429748535,
          1.008280873298645,
          -0.4009400010108948,
          -4.601317882537842,
          10.671533584594727,
          8.124364852905273,
          4.719953536987305,
          18.942445755004883,
          -0.15262193977832794,
          15.440934181213379,
          -3.663429021835327,
          4.409714698791504,
          -8.58595085144043,
          -5.892685413360596,
          0.5867818593978882,
          -1.8519957065582275,
          1.1847652196884155,
          -3.2561633586883545,
          4.556819915771484,
          -0.06464939564466476,
          8.295906066894531,
          5.049112319946289,
          -4.46451997756958,
          -2.128727436065674,
          1.8994389772415161,
          -8.084062576293945,
          0.4802550971508026,
          12.275259017944336,
          -1.7860033512115479,
          5.775839805603027,
          -5.561740875244141,
          6.671568393707275,
          -7.601334095001221,
          2.4559524059295654,
          -6.440235137939453,
          0.2559312582015991,
          -0.5271704792976379,
          11.401888847351074,
          -1.0119647979736328,
          1.2001608610153198,
          7.6287078857421875,
          -0.1407068371772766,
          0.04216902703046799,
          3.038997173309326,
          9.455924987792969,
          9.809019088745117,
          0.9931592345237732,
          5.7683844566345215,
          7.6308465003967285,
          15.793066024780273,
          6.149803638458252,
          6.449159145355225,
          -6.515750885009766,
          0.851905107498169,
          2.4767274856567383,
          10.710673332214355,
          6.722412109375,
          -2.825695514678955,
          -10.592728614807129,
          -1.9010612964630127,
          -34.72956466674805,
          5.230466842651367,
          -8.901827812194824,
          -7.472306728363037,
          1.29966402053833,
          -3.294854164123535,
          3.2406702041625977,
          8.087721824645996,
          -4.353517055511475,
          -1.8513864278793335,
          -4.22294282913208,
          4.712520122528076,
          -36.10945510864258,
          -0.16548259556293488,
          0.3461277186870575,
          -4.311619758605957,
          7.382643699645996,
          1.4663140773773193,
          -5.765106201171875,
          4.75176477432251,
          -6.362755298614502,
          0.44823139905929565,
          -4.174200057983398,
          -8.0587158203125,
          8.396745681762695,
          4.324976444244385,
          -3.088447332382202,
          -11.010736465454102,
          -10.232671737670898,
          -11.681264877319336,
          -2.0583386421203613,
          -1.929630160331726,
          -4.587698459625244,
          -4.137527942657471,
          -3.100799322128296,
          8.562996864318848,
          -7.895684242248535,
          2.1725263595581055,
          -1.7527570724487305,
          -11.690828323364258,
          -1.3851463794708252,
          6.577237129211426,
          7.535170078277588,
          -3.694753408432007,
          -0.752016544342041,
          -5.62652587890625,
          9.419232368469238,
          0.46370193362236023,
          8.852239608764648,
          -1.3340744972229004,
          -2.343417167663574,
          8.744355201721191,
          8.049448013305664,
          -6.919031143188477,
          10.617716789245605,
          -12.34040641784668,
          -12.82696533203125,
          -9.032838821411133,
          -5.8579816818237305,
          -4.166483402252197
         ],
         "y": [
          -7.264883041381836,
          -2.2060163021087646,
          -6.963849067687988,
          3.9414823055267334,
          -4.032230854034424,
          -0.8900943994522095,
          10.816429138183594,
          -4.844198703765869,
          -2.711235284805298,
          13.45458698272705,
          7.341904640197754,
          1.8963536024093628,
          -9.200787544250488,
          5.788822174072266,
          5.934328556060791,
          5.284360408782959,
          6.608804702758789,
          8.355409622192383,
          -1.726752519607544,
          -3.269721508026123,
          9.83305549621582,
          -7.647157669067383,
          -3.2661314010620117,
          10.908862113952637,
          -9.598880767822266,
          -3.5899884700775146,
          -2.8803930282592773,
          -2.33640456199646,
          1.892689824104309,
          -12.331186294555664,
          -3.590208053588867,
          -5.55030632019043,
          -1.5924657583236694,
          -0.768768310546875,
          -3.2810983657836914,
          3.080018997192383,
          -6.857372760772705,
          -7.347445964813232,
          -9.138140678405762,
          3.029219388961792,
          -6.075836658477783,
          -0.6347231864929199,
          -12.786192893981934,
          -3.6928131580352783,
          -8.62307357788086,
          1.3380458354949951,
          -0.5985183715820312,
          -0.5834261775016785,
          6.123692035675049,
          -3.287588119506836,
          -4.896570682525635,
          -8.208159446716309,
          -1.3527826070785522,
          -3.663332939147949,
          7.882524013519287,
          4.262449741363525,
          5.606222152709961,
          -6.789916515350342,
          4.440559387207031,
          10.295853614807129,
          -5.695852279663086,
          12.898518562316895,
          -8.68708324432373,
          -0.6400080919265747,
          0.04718296602368355,
          -3.970963478088379,
          -1.0288243293762207,
          0.6693780422210693,
          0.942677915096283,
          -4.781685829162598,
          9.202240943908691,
          -4.086395740509033,
          -5.607526779174805,
          -10.58907413482666,
          1.5728679895401,
          -6.975770950317383,
          8.227599143981934,
          -5.473272800445557,
          9.82124137878418,
          0.6523934602737427,
          -7.536116123199463,
          -2.0146119594573975,
          9.404425621032715,
          4.816756725311279,
          -6.753239631652832,
          -3.34950852394104,
          1.6542069911956787,
          -9.739192008972168,
          5.321599960327148,
          -8.94108772277832,
          -9.204839706420898,
          0.607284426689148,
          -2.1282010078430176,
          0.1875656545162201,
          7.8448615074157715,
          -5.346249580383301,
          0.8458464741706848,
          3.9708423614501953,
          4.4104132652282715,
          1.5705770254135132,
          -6.027993202209473,
          0.9213206768035889,
          -6.349588394165039,
          -5.677414417266846,
          -3.4868698120117188,
          8.393930435180664,
          -3.740049123764038,
          -7.030782222747803,
          -3.6110479831695557,
          1.2630566358566284,
          6.544504165649414,
          -0.49647027254104614,
          7.477766513824463,
          5.70911979675293,
          0.8805534839630127,
          -2.192399024963379,
          7.359470367431641,
          -10.74551010131836,
          1.3665512800216675,
          3.807995319366455,
          -0.9002963900566101,
          -4.805821895599365,
          0.7856775522232056,
          -5.508079528808594,
          2.930952787399292,
          -2.4812684059143066,
          -3.56854510307312,
          -10.806718826293945,
          1.184251308441162,
          4.397246837615967,
          -0.6637995839118958,
          -7.844616889953613,
          7.049111366271973,
          0.18762773275375366,
          -7.981070518493652,
          -11.545616149902344,
          2.717639207839966,
          -4.886629581451416,
          -4.459754467010498,
          10.281389236450195,
          -0.06030188500881195,
          1.2554656267166138,
          -9.249125480651855,
          5.566549777984619,
          -11.286846160888672,
          -2.274829387664795,
          -5.842526435852051,
          0.7403883934020996,
          10.777029991149902,
          -12.020413398742676,
          3.82118821144104,
          8.137648582458496,
          0.24394381046295166,
          0.9447526335716248,
          -5.995260715484619,
          0.2915831506252289,
          7.349567890167236,
          0.9038176536560059,
          4.32372522354126,
          4.624495029449463,
          1.9455177783966064,
          4.012293815612793,
          -3.6597492694854736,
          -1.476109266281128,
          -3.5661840438842773,
          7.210809707641602,
          7.8414306640625,
          -5.340992450714111,
          4.2341766357421875,
          0.3702305555343628,
          9.719883918762207,
          -31.086063385009766,
          -9.394835472106934,
          0.957923412322998,
          3.0618131160736084,
          -6.62081241607666,
          5.626617908477783,
          -3.2441365718841553,
          7.356568813323975,
          -4.135046005249023,
          1.5207191705703735,
          -11.564813613891602,
          13.040928840637207,
          6.713533401489258,
          -5.934819221496582,
          1.591640830039978,
          5.189093112945557,
          3.5585687160491943,
          -3.703275680541992,
          25.167020797729492,
          -4.024143218994141,
          4.0378217697143555,
          1.2283796072006226,
          2.4062440395355225,
          -5.732845783233643,
          1.389158010482788,
          -9.291206359863281,
          -10.73693561553955,
          -0.31217607855796814,
          -2.012265682220459,
          -9.413222312927246,
          -2.838625907897949,
          7.656867980957031,
          -4.342859268188477,
          -6.176580905914307,
          -5.954547882080078,
          -5.121535301208496,
          -0.6343709826469421,
          5.809662342071533,
          9.682674407958984,
          0.9113343358039856,
          -9.811461448669434,
          7.2472357749938965,
          -9.267997741699219,
          -3.66023850440979,
          1.9754469394683838,
          7.238010406494141,
          5.295877933502197,
          6.007830619812012,
          3.377997875213623,
          -0.5318998098373413,
          -8.806853294372559,
          -1.7890068292617798,
          9.957610130310059,
          6.415324687957764,
          2.7192673683166504,
          0.5607218146324158,
          -8.669915199279785,
          2.6300971508026123,
          -44.96807861328125,
          3.3597118854522705,
          -9.401607513427734,
          7.165160655975342,
          -2.4800610542297363,
          6.741270065307617,
          4.878029823303223,
          3.7152140140533447,
          -9.543281555175781,
          7.574552059173584,
          -3.308389186859131,
          52.32155990600586,
          -11.13049602508545,
          -3.1563570499420166,
          -6.188465118408203,
          4.533393383026123,
          -4.737026691436768,
          -1.2850563526153564,
          -2.803046226501465,
          -0.45061081647872925,
          8.047321319580078,
          8.157441139221191,
          -6.852879524230957,
          75.42154693603516,
          -6.267997741699219,
          -0.5529313087463379,
          9.685729026794434,
          -3.6029272079467773,
          5.268889904022217,
          7.460912227630615,
          -1.812741756439209,
          -3.9193687438964844,
          2.4704272747039795,
          4.130972385406494,
          1.066413164138794,
          -1.5114519596099854,
          -4.332383155822754,
          0.8696573972702026,
          6.414732933044434,
          8.610295295715332,
          6.582345962524414,
          -4.432661056518555,
          0.32059168815612793,
          4.109349250793457,
          9.528214454650879,
          9.461334228515625,
          0.19642606377601624,
          -6.376838684082031,
          5.653799533843994,
          -0.5525169372558594,
          5.742281913757324,
          0.08583316951990128,
          9.856755256652832,
          -9.498006820678711,
          0.8507629036903381,
          -4.703466415405273,
          5.140558242797852,
          -1.7425256967544556,
          -0.5268248319625854,
          -6.93455696105957,
          5.074537754058838,
          1.233733892440796,
          2.5890371799468994,
          6.825308799743652,
          5.769636631011963,
          4.083625793457031,
          4.891575813293457,
          7.051639556884766,
          0.7390679717063904,
          8.283870697021484,
          1.7464332580566406
         ],
         "z": [
          1.5563313961029053,
          15.47138786315918,
          1.7079461812973022,
          6.35659122467041,
          14.88739013671875,
          -1.5498095750808716,
          1.283936858177185,
          9.110199928283691,
          -2.7069714069366455,
          2.2868285179138184,
          3.61151385307312,
          -7.636691093444824,
          -1.1163440942764282,
          7.840291500091553,
          -8.318540573120117,
          12.597976684570312,
          -1.9644173383712769,
          3.187310218811035,
          -2.5156617164611816,
          -11.238676071166992,
          -6.236939430236816,
          6.138866901397705,
          -11.227309226989746,
          2.1732773780822754,
          6.339552402496338,
          6.149275302886963,
          7.02015495300293,
          -2.7779650688171387,
          10.555938720703125,
          7.390641212463379,
          6.147212505340576,
          -7.419970512390137,
          -4.79857063293457,
          -0.5227330327033997,
          -10.343653678894043,
          -6.039369583129883,
          -1.3197060823440552,
          7.819427967071533,
          -6.121451377868652,
          -8.018871307373047,
          -1.81941556930542,
          3.0471084117889404,
          -6.196208477020264,
          -5.563102722167969,
          1.7076863050460815,
          -11.220108985900879,
          -1.8050079345703125,
          2.588157892227173,
          -2.319093704223633,
          -10.102555274963379,
          -7.050755977630615,
          -9.376643180847168,
          8.21539306640625,
          -10.039798736572266,
          3.75533390045166,
          1.706801414489746,
          -2.177060842514038,
          1.4626682996749878,
          -5.788153171539307,
          -1.5617488622665405,
          -1.0283504724502563,
          2.1095335483551025,
          -5.191484451293945,
          -1.65483820438385,
          1.1421630382537842,
          -6.302555561065674,
          -5.042807102203369,
          4.357070446014404,
          -10.509211540222168,
          -1.5174528360366821,
          -0.06770635396242142,
          8.914395332336426,
          6.073579788208008,
          -5.05609655380249,
          0.8861324191093445,
          -9.82170581817627,
          7.663578510284424,
          0.4089609980583191,
          -6.487982273101807,
          11.582437515258789,
          9.547953605651855,
          5.258081912994385,
          -0.899680495262146,
          8.647668838500977,
          -6.173398494720459,
          -3.7444474697113037,
          -0.4262133836746216,
          -0.5603416562080383,
          8.185898780822754,
          5.566601276397705,
          -4.953185558319092,
          -7.120217800140381,
          1.3802506923675537,
          -3.656846761703491,
          3.108275890350342,
          2.3419601917266846,
          9.872160911560059,
          3.537702798843384,
          2.406407594680786,
          5.653837203979492,
          -8.002318382263184,
          10.178715705871582,
          -9.719314575195312,
          9.395610809326172,
          1.8679389953613281,
          5.926396369934082,
          3.2033729553222656,
          -0.512313187122345,
          5.740966320037842,
          0.3759937584400177,
          2.029000997543335,
          -4.194155693054199,
          -8.987199783325195,
          -3.830897808074951,
          11.121919631958008,
          2.471545696258545,
          -0.7591220736503601,
          1.576441764831543,
          -11.3360595703125,
          -8.214444160461426,
          3.359769344329834,
          -6.162498950958252,
          -5.003455638885498,
          -8.574331283569336,
          -0.9295573234558105,
          3.7781009674072266,
          8.694751739501953,
          0.6548731923103333,
          6.148462295532227,
          7.023443222045898,
          4.92538595199585,
          1.261533260345459,
          -9.847818374633789,
          12.194812774658203,
          4.434510231018066,
          0.6001818180084229,
          6.501978874206543,
          7.840376377105713,
          10.794836044311523,
          0.9674111604690552,
          -0.3847706913948059,
          -6.907602787017822,
          -3.991347074508667,
          6.299429893493652,
          2.883227586746216,
          -42.29059982299805,
          0.5023729205131531,
          10.420997619628906,
          2.180389165878296,
          7.83220100402832,
          -8.215108871459961,
          -0.22274920344352722,
          -6.611926555633545,
          10.971572875976562,
          -5.46341609954834,
          -5.70573091506958,
          -10.375579833984375,
          -4.758303165435791,
          -4.952272891998291,
          -4.440025806427002,
          -7.904609680175781,
          7.835314750671387,
          10.288618087768555,
          3.1480369567871094,
          -0.9520255923271179,
          -1.4411852359771729,
          4.909469127655029,
          2.324763298034668,
          6.838508605957031,
          -2.3231470584869385,
          -8.239420890808105,
          -44.8418083190918,
          -6.150431156158447,
          -10.496376991271973,
          3.2923121452331543,
          -10.85809326171875,
          -0.6418052315711975,
          -3.6364238262176514,
          5.858842372894287,
          -8.350322723388672,
          -12.049556732177734,
          0.9640462398529053,
          2.1545591354370117,
          -8.136810302734375,
          -2.1700375080108643,
          -6.383566379547119,
          1.4322113990783691,
          -80.71578979492188,
          -0.8726433515548706,
          -134.6699676513672,
          1.9006792306900024,
          -5.80744743347168,
          -0.235306516289711,
          -1.0895280838012695,
          3.5850186347961426,
          1.1461817026138306,
          -0.06505323946475983,
          1.5802514553070068,
          -2.6273915767669678,
          9.096769332885742,
          2.8302903175354004,
          8.06273365020752,
          -8.22392749786377,
          -7.914068698883057,
          7.849340438842773,
          -8.85218334197998,
          7.451718807220459,
          4.859941005706787,
          -3.260486125946045,
          0.7373430728912354,
          10.98543930053711,
          -1.2538719177246094,
          2.906934976577759,
          0.8190966844558716,
          10.290115356445312,
          -2.9452505111694336,
          -0.8387329578399658,
          2.9576597213745117,
          2.336143732070923,
          3.9492673873901367,
          5.606471538543701,
          5.678173065185547,
          9.018106460571289,
          -5.501574516296387,
          -2.013732671737671,
          -7.674558162689209,
          -1.2574433088302612,
          -5.6473588943481445,
          4.780566692352295,
          -341.33575439453125,
          7.80967378616333,
          -3.5739150047302246,
          0.4365183413028717,
          1.8680585622787476,
          -9.381325721740723,
          3.5166025161743164,
          8.277758598327637,
          -5.017215728759766,
          0.25651317834854126,
          14.932963371276855,
          147.53062438964844,
          3.0655219554901123,
          5.021061897277832,
          -5.7518744468688965,
          7.0988850593566895,
          -1.9014782905578613,
          -2.4254519939422607,
          -5.550001621246338,
          -3.3632214069366455,
          7.570076942443848,
          -8.058205604553223,
          8.833797454833984,
          -4.933979511260986,
          -11.697344779968262,
          9.883700370788574,
          -0.2011924833059311,
          -4.644345283508301,
          12.583857536315918,
          -8.669381141662598,
          9.523054122924805,
          -1.0982111692428589,
          5.1361613273620605,
          -7.604835033416748,
          -0.17277485132217407,
          -5.949333190917969,
          -7.1643829345703125,
          11.06484317779541,
          -0.06203371658921242,
          0.4622747004032135,
          -0.3045438230037689,
          -7.750147819519043,
          5.796878814697266,
          6.7379350662231445,
          0.40214210748672485,
          -7.456662654876709,
          -0.024160850793123245,
          -7.0625457763671875,
          -3.123889446258545,
          5.6314568519592285,
          -0.04416188970208168,
          -6.248416900634766,
          -6.223804473876953,
          3.443979263305664,
          10.906920433044434,
          -1.2827560901641846,
          8.321565628051758,
          7.284553050994873,
          -0.9326497316360474,
          6.120811939239502,
          2.0381040573120117,
          1.1607637405395508,
          -5.595481872558594,
          -1.8697478771209717,
          2.148599147796631,
          3.743975877761841,
          -0.03686938434839249,
          -0.6338975429534912,
          -4.791428089141846,
          -0.6925823092460632,
          -6.708544731140137
         ]
        }
       ],
       "layout": {
        "legend": {
         "tracegroupgap": 0
        },
        "margin": {
         "t": 60
        },
        "scene": {
         "domain": {
          "x": [
           0,
           1
          ],
          "y": [
           0,
           1
          ]
         },
         "xaxis": {
          "title": {
           "text": "x"
          }
         },
         "yaxis": {
          "title": {
           "text": "y"
          }
         },
         "zaxis": {
          "title": {
           "text": "z"
          }
         }
        },
        "template": {
         "data": {
          "bar": [
           {
            "error_x": {
             "color": "#2a3f5f"
            },
            "error_y": {
             "color": "#2a3f5f"
            },
            "marker": {
             "line": {
              "color": "#E5ECF6",
              "width": 0.5
             },
             "pattern": {
              "fillmode": "overlay",
              "size": 10,
              "solidity": 0.2
             }
            },
            "type": "bar"
           }
          ],
          "barpolar": [
           {
            "marker": {
             "line": {
              "color": "#E5ECF6",
              "width": 0.5
             },
             "pattern": {
              "fillmode": "overlay",
              "size": 10,
              "solidity": 0.2
             }
            },
            "type": "barpolar"
           }
          ],
          "carpet": [
           {
            "aaxis": {
             "endlinecolor": "#2a3f5f",
             "gridcolor": "white",
             "linecolor": "white",
             "minorgridcolor": "white",
             "startlinecolor": "#2a3f5f"
            },
            "baxis": {
             "endlinecolor": "#2a3f5f",
             "gridcolor": "white",
             "linecolor": "white",
             "minorgridcolor": "white",
             "startlinecolor": "#2a3f5f"
            },
            "type": "carpet"
           }
          ],
          "choropleth": [
           {
            "colorbar": {
             "outlinewidth": 0,
             "ticks": ""
            },
            "type": "choropleth"
           }
          ],
          "contour": [
           {
            "colorbar": {
             "outlinewidth": 0,
             "ticks": ""
            },
            "colorscale": [
             [
              0,
              "#0d0887"
             ],
             [
              0.1111111111111111,
              "#46039f"
             ],
             [
              0.2222222222222222,
              "#7201a8"
             ],
             [
              0.3333333333333333,
              "#9c179e"
             ],
             [
              0.4444444444444444,
              "#bd3786"
             ],
             [
              0.5555555555555556,
              "#d8576b"
             ],
             [
              0.6666666666666666,
              "#ed7953"
             ],
             [
              0.7777777777777778,
              "#fb9f3a"
             ],
             [
              0.8888888888888888,
              "#fdca26"
             ],
             [
              1,
              "#f0f921"
             ]
            ],
            "type": "contour"
           }
          ],
          "contourcarpet": [
           {
            "colorbar": {
             "outlinewidth": 0,
             "ticks": ""
            },
            "type": "contourcarpet"
           }
          ],
          "heatmap": [
           {
            "colorbar": {
             "outlinewidth": 0,
             "ticks": ""
            },
            "colorscale": [
             [
              0,
              "#0d0887"
             ],
             [
              0.1111111111111111,
              "#46039f"
             ],
             [
              0.2222222222222222,
              "#7201a8"
             ],
             [
              0.3333333333333333,
              "#9c179e"
             ],
             [
              0.4444444444444444,
              "#bd3786"
             ],
             [
              0.5555555555555556,
              "#d8576b"
             ],
             [
              0.6666666666666666,
              "#ed7953"
             ],
             [
              0.7777777777777778,
              "#fb9f3a"
             ],
             [
              0.8888888888888888,
              "#fdca26"
             ],
             [
              1,
              "#f0f921"
             ]
            ],
            "type": "heatmap"
           }
          ],
          "heatmapgl": [
           {
            "colorbar": {
             "outlinewidth": 0,
             "ticks": ""
            },
            "colorscale": [
             [
              0,
              "#0d0887"
             ],
             [
              0.1111111111111111,
              "#46039f"
             ],
             [
              0.2222222222222222,
              "#7201a8"
             ],
             [
              0.3333333333333333,
              "#9c179e"
             ],
             [
              0.4444444444444444,
              "#bd3786"
             ],
             [
              0.5555555555555556,
              "#d8576b"
             ],
             [
              0.6666666666666666,
              "#ed7953"
             ],
             [
              0.7777777777777778,
              "#fb9f3a"
             ],
             [
              0.8888888888888888,
              "#fdca26"
             ],
             [
              1,
              "#f0f921"
             ]
            ],
            "type": "heatmapgl"
           }
          ],
          "histogram": [
           {
            "marker": {
             "pattern": {
              "fillmode": "overlay",
              "size": 10,
              "solidity": 0.2
             }
            },
            "type": "histogram"
           }
          ],
          "histogram2d": [
           {
            "colorbar": {
             "outlinewidth": 0,
             "ticks": ""
            },
            "colorscale": [
             [
              0,
              "#0d0887"
             ],
             [
              0.1111111111111111,
              "#46039f"
             ],
             [
              0.2222222222222222,
              "#7201a8"
             ],
             [
              0.3333333333333333,
              "#9c179e"
             ],
             [
              0.4444444444444444,
              "#bd3786"
             ],
             [
              0.5555555555555556,
              "#d8576b"
             ],
             [
              0.6666666666666666,
              "#ed7953"
             ],
             [
              0.7777777777777778,
              "#fb9f3a"
             ],
             [
              0.8888888888888888,
              "#fdca26"
             ],
             [
              1,
              "#f0f921"
             ]
            ],
            "type": "histogram2d"
           }
          ],
          "histogram2dcontour": [
           {
            "colorbar": {
             "outlinewidth": 0,
             "ticks": ""
            },
            "colorscale": [
             [
              0,
              "#0d0887"
             ],
             [
              0.1111111111111111,
              "#46039f"
             ],
             [
              0.2222222222222222,
              "#7201a8"
             ],
             [
              0.3333333333333333,
              "#9c179e"
             ],
             [
              0.4444444444444444,
              "#bd3786"
             ],
             [
              0.5555555555555556,
              "#d8576b"
             ],
             [
              0.6666666666666666,
              "#ed7953"
             ],
             [
              0.7777777777777778,
              "#fb9f3a"
             ],
             [
              0.8888888888888888,
              "#fdca26"
             ],
             [
              1,
              "#f0f921"
             ]
            ],
            "type": "histogram2dcontour"
           }
          ],
          "mesh3d": [
           {
            "colorbar": {
             "outlinewidth": 0,
             "ticks": ""
            },
            "type": "mesh3d"
           }
          ],
          "parcoords": [
           {
            "line": {
             "colorbar": {
              "outlinewidth": 0,
              "ticks": ""
             }
            },
            "type": "parcoords"
           }
          ],
          "pie": [
           {
            "automargin": true,
            "type": "pie"
           }
          ],
          "scatter": [
           {
            "fillpattern": {
             "fillmode": "overlay",
             "size": 10,
             "solidity": 0.2
            },
            "type": "scatter"
           }
          ],
          "scatter3d": [
           {
            "line": {
             "colorbar": {
              "outlinewidth": 0,
              "ticks": ""
             }
            },
            "marker": {
             "colorbar": {
              "outlinewidth": 0,
              "ticks": ""
             }
            },
            "type": "scatter3d"
           }
          ],
          "scattercarpet": [
           {
            "marker": {
             "colorbar": {
              "outlinewidth": 0,
              "ticks": ""
             }
            },
            "type": "scattercarpet"
           }
          ],
          "scattergeo": [
           {
            "marker": {
             "colorbar": {
              "outlinewidth": 0,
              "ticks": ""
             }
            },
            "type": "scattergeo"
           }
          ],
          "scattergl": [
           {
            "marker": {
             "colorbar": {
              "outlinewidth": 0,
              "ticks": ""
             }
            },
            "type": "scattergl"
           }
          ],
          "scattermapbox": [
           {
            "marker": {
             "colorbar": {
              "outlinewidth": 0,
              "ticks": ""
             }
            },
            "type": "scattermapbox"
           }
          ],
          "scatterpolar": [
           {
            "marker": {
             "colorbar": {
              "outlinewidth": 0,
              "ticks": ""
             }
            },
            "type": "scatterpolar"
           }
          ],
          "scatterpolargl": [
           {
            "marker": {
             "colorbar": {
              "outlinewidth": 0,
              "ticks": ""
             }
            },
            "type": "scatterpolargl"
           }
          ],
          "scatterternary": [
           {
            "marker": {
             "colorbar": {
              "outlinewidth": 0,
              "ticks": ""
             }
            },
            "type": "scatterternary"
           }
          ],
          "surface": [
           {
            "colorbar": {
             "outlinewidth": 0,
             "ticks": ""
            },
            "colorscale": [
             [
              0,
              "#0d0887"
             ],
             [
              0.1111111111111111,
              "#46039f"
             ],
             [
              0.2222222222222222,
              "#7201a8"
             ],
             [
              0.3333333333333333,
              "#9c179e"
             ],
             [
              0.4444444444444444,
              "#bd3786"
             ],
             [
              0.5555555555555556,
              "#d8576b"
             ],
             [
              0.6666666666666666,
              "#ed7953"
             ],
             [
              0.7777777777777778,
              "#fb9f3a"
             ],
             [
              0.8888888888888888,
              "#fdca26"
             ],
             [
              1,
              "#f0f921"
             ]
            ],
            "type": "surface"
           }
          ],
          "table": [
           {
            "cells": {
             "fill": {
              "color": "#EBF0F8"
             },
             "line": {
              "color": "white"
             }
            },
            "header": {
             "fill": {
              "color": "#C8D4E3"
             },
             "line": {
              "color": "white"
             }
            },
            "type": "table"
           }
          ]
         },
         "layout": {
          "annotationdefaults": {
           "arrowcolor": "#2a3f5f",
           "arrowhead": 0,
           "arrowwidth": 1
          },
          "autotypenumbers": "strict",
          "coloraxis": {
           "colorbar": {
            "outlinewidth": 0,
            "ticks": ""
           }
          },
          "colorscale": {
           "diverging": [
            [
             0,
             "#8e0152"
            ],
            [
             0.1,
             "#c51b7d"
            ],
            [
             0.2,
             "#de77ae"
            ],
            [
             0.3,
             "#f1b6da"
            ],
            [
             0.4,
             "#fde0ef"
            ],
            [
             0.5,
             "#f7f7f7"
            ],
            [
             0.6,
             "#e6f5d0"
            ],
            [
             0.7,
             "#b8e186"
            ],
            [
             0.8,
             "#7fbc41"
            ],
            [
             0.9,
             "#4d9221"
            ],
            [
             1,
             "#276419"
            ]
           ],
           "sequential": [
            [
             0,
             "#0d0887"
            ],
            [
             0.1111111111111111,
             "#46039f"
            ],
            [
             0.2222222222222222,
             "#7201a8"
            ],
            [
             0.3333333333333333,
             "#9c179e"
            ],
            [
             0.4444444444444444,
             "#bd3786"
            ],
            [
             0.5555555555555556,
             "#d8576b"
            ],
            [
             0.6666666666666666,
             "#ed7953"
            ],
            [
             0.7777777777777778,
             "#fb9f3a"
            ],
            [
             0.8888888888888888,
             "#fdca26"
            ],
            [
             1,
             "#f0f921"
            ]
           ],
           "sequentialminus": [
            [
             0,
             "#0d0887"
            ],
            [
             0.1111111111111111,
             "#46039f"
            ],
            [
             0.2222222222222222,
             "#7201a8"
            ],
            [
             0.3333333333333333,
             "#9c179e"
            ],
            [
             0.4444444444444444,
             "#bd3786"
            ],
            [
             0.5555555555555556,
             "#d8576b"
            ],
            [
             0.6666666666666666,
             "#ed7953"
            ],
            [
             0.7777777777777778,
             "#fb9f3a"
            ],
            [
             0.8888888888888888,
             "#fdca26"
            ],
            [
             1,
             "#f0f921"
            ]
           ]
          },
          "colorway": [
           "#636efa",
           "#EF553B",
           "#00cc96",
           "#ab63fa",
           "#FFA15A",
           "#19d3f3",
           "#FF6692",
           "#B6E880",
           "#FF97FF",
           "#FECB52"
          ],
          "font": {
           "color": "#2a3f5f"
          },
          "geo": {
           "bgcolor": "white",
           "lakecolor": "white",
           "landcolor": "#E5ECF6",
           "showlakes": true,
           "showland": true,
           "subunitcolor": "white"
          },
          "hoverlabel": {
           "align": "left"
          },
          "hovermode": "closest",
          "mapbox": {
           "style": "light"
          },
          "paper_bgcolor": "white",
          "plot_bgcolor": "#E5ECF6",
          "polar": {
           "angularaxis": {
            "gridcolor": "white",
            "linecolor": "white",
            "ticks": ""
           },
           "bgcolor": "#E5ECF6",
           "radialaxis": {
            "gridcolor": "white",
            "linecolor": "white",
            "ticks": ""
           }
          },
          "scene": {
           "xaxis": {
            "backgroundcolor": "#E5ECF6",
            "gridcolor": "white",
            "gridwidth": 2,
            "linecolor": "white",
            "showbackground": true,
            "ticks": "",
            "zerolinecolor": "white"
           },
           "yaxis": {
            "backgroundcolor": "#E5ECF6",
            "gridcolor": "white",
            "gridwidth": 2,
            "linecolor": "white",
            "showbackground": true,
            "ticks": "",
            "zerolinecolor": "white"
           },
           "zaxis": {
            "backgroundcolor": "#E5ECF6",
            "gridcolor": "white",
            "gridwidth": 2,
            "linecolor": "white",
            "showbackground": true,
            "ticks": "",
            "zerolinecolor": "white"
           }
          },
          "shapedefaults": {
           "line": {
            "color": "#2a3f5f"
           }
          },
          "ternary": {
           "aaxis": {
            "gridcolor": "white",
            "linecolor": "white",
            "ticks": ""
           },
           "baxis": {
            "gridcolor": "white",
            "linecolor": "white",
            "ticks": ""
           },
           "bgcolor": "#E5ECF6",
           "caxis": {
            "gridcolor": "white",
            "linecolor": "white",
            "ticks": ""
           }
          },
          "title": {
           "x": 0.05
          },
          "xaxis": {
           "automargin": true,
           "gridcolor": "white",
           "linecolor": "white",
           "ticks": "",
           "title": {
            "standoff": 15
           },
           "zerolinecolor": "white",
           "zerolinewidth": 2
          },
          "yaxis": {
           "automargin": true,
           "gridcolor": "white",
           "linecolor": "white",
           "ticks": "",
           "title": {
            "standoff": 15
           },
           "zerolinecolor": "white",
           "zerolinewidth": 2
          }
         }
        }
       }
      }
     },
     "metadata": {},
     "output_type": "display_data"
    }
   ],
   "source": [
    "import plotly.express as px\n",
    "import nbformat\n",
    "print(nbformat.__version__)\n",
    "\n",
    "# Assuming 'model' is your trained FastText model\n",
    "words = list(model.wv.index_to_key)[:300]  # Taking the first 300 words for visualization\n",
    "vectors = np.array([model.wv[word] for word in words])\n",
    "\n",
    "# Update TSNE to 3 components for 3D visualization\n",
    "tsne = TSNE(n_components=3, random_state=42, n_iter=300, perplexity=5)\n",
    "tsne_results = tsne.fit_transform(vectors)\n",
    "\n",
    "# Convert results into a DataFrame for easier plotting with plotly\n",
    "import pandas as pd\n",
    "df = pd.DataFrame(tsne_results, columns=['x', 'y', 'z'])\n",
    "df['word'] = words\n",
    "\n",
    "# Create interactive 3D scatter plot using plotly\n",
    "fig = px.scatter_3d(df, x='x', y='y', z='z', text='word')\n",
    "\n",
    "# Show the plot\n",
    "fig.show()"
   ]
  },
  {
   "cell_type": "markdown",
   "metadata": {},
   "source": [
    "### Name-Entity Recognition (NER):"
   ]
  },
  {
   "cell_type": "code",
   "execution_count": 49,
   "metadata": {},
   "outputs": [],
   "source": [
    "!python -m spacy download es_core_news_sm\n",
    "!python -m spacy download es_dep_news_trf"
   ]
  },
  {
   "cell_type": "code",
   "execution_count": 48,
   "metadata": {},
   "outputs": [
    {
     "data": {
      "text/plain": [
       "[('Rafa', 'LOC')]"
      ]
     },
     "execution_count": 48,
     "metadata": {},
     "output_type": "execute_result"
    }
   ],
   "source": [
    "import spacy\n",
    "\n",
    "nlp = spacy.load('es_dep_news_trf')\n",
    "\n",
    "def named_entities(text):\n",
    "    doc = nlp(text)\n",
    "    entities = [(ent.text, ent.label_) for ent in doc.ents]\n",
    "    return entities\n",
    "\n",
    "\n",
    "named_entities(tweets['text'].iloc[68])"
   ]
  },
  {
   "cell_type": "markdown",
   "metadata": {},
   "source": [
    "### Topic Modelling"
   ]
  },
  {
   "cell_type": "code",
   "execution_count": null,
   "metadata": {},
   "outputs": [],
   "source": [
    "from sklearn.feature_extraction.text import CountVectorizer\n",
    "from sklearn.decomposition import LatentDirichletAllocation\n",
    "\n",
    "def topics_lda(texts, n_topics=5, n_words=5):\n",
    "    vectorizer = CountVectorizer(stop_words='english')\n",
    "    data_vectorized = vectorizer.fit_transform(texts)\n",
    "    lda = LatentDirichletAllocation(n_components=n_topics)\n",
    "    lda.fit(data_vectorized)\n",
    "    topics = []\n",
    "    for idx, topic in enumerate(lda.components_):\n",
    "        topics.append([vectorizer.get_feature_names_out()[i] for i in topic.argsort()[-n_words:]])\n",
    "    return topics"
   ]
  }
 ],
 "metadata": {
  "kernelspec": {
   "display_name": "Python 3",
   "language": "python",
   "name": "python3"
  },
  "language_info": {
   "codemirror_mode": {
    "name": "ipython",
    "version": 3
   },
   "file_extension": ".py",
   "mimetype": "text/x-python",
   "name": "python",
   "nbconvert_exporter": "python",
   "pygments_lexer": "ipython3",
   "version": "3.11.2"
  }
 },
 "nbformat": 4,
 "nbformat_minor": 2
}
